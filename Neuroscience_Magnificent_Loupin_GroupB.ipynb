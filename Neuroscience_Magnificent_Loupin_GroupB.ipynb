{
  "cells": [
    {
      "cell_type": "markdown",
      "metadata": {
        "id": "Jz5EaHxVTAUj"
      },
      "source": [
        "# Comparison Between RNN and CNN on EEG data\n",
        "Attempt at implementing RNN and CNN models on BCI Competition IV 2a Dataset\n",
        "  \n"
      ]
    },
    {
      "cell_type": "markdown",
      "metadata": {
        "id": "d2jHrST20NTS"
      },
      "source": []
    },
    {
      "cell_type": "markdown",
      "metadata": {
        "id": "E9TtUkQGTAUl"
      },
      "source": [
        "# BCI Competition IV Dataset 2a (.npz data)\n",
        "Information Given in Documentation\n",
        "\n",
        "From the documentation it is known that:\n",
        "* 25 electrodes are used, first 22 are EEG, last 3 are EOG\n",
        "* Sampling frequency (fs) is 250Hz\n",
        "* 9 subjects\n",
        "* 9 run (run 1-3 are for eye movement, run 4-9 is MI)  \n",
        "  \n",
        "\n",
        "**-- Time Duration--**  \n",
        "1 trials                          = 7-8s  \n",
        "1 run              = 48 trials    = 336-384s  \n",
        "1 session = 6 runs = 288 trials   = 2016-2304s\n",
        "\n",
        "About the recording of eye movement\n",
        "* run 1 => 2 mins with eyes open\n",
        "* run 2 => 1 min with eyes closed\n",
        "* run 3 => 1 min with eye movements\n",
        "\n",
        "![timing-scheme-paradigm.png](https://github.com/orvindemsy/BCICIV2a-FBCSP/blob/master/img/timing-scheme-paradigm.png?raw=1)"
      ]
    },
    {
      "cell_type": "code",
      "execution_count": null,
      "metadata": {
        "colab": {
          "base_uri": "https://localhost:8080/"
        },
        "id": "zhOJW5hSjTlx",
        "outputId": "ba405c17-4bda-423f-d89f-e7b8b3ae2f03"
      },
      "outputs": [
        {
          "output_type": "stream",
          "name": "stdout",
          "text": [
            "Requirement already satisfied: mne in /usr/local/lib/python3.10/dist-packages (1.7.1)\n",
            "Requirement already satisfied: decorator in /usr/local/lib/python3.10/dist-packages (from mne) (4.4.2)\n",
            "Requirement already satisfied: jinja2 in /usr/local/lib/python3.10/dist-packages (from mne) (3.1.4)\n",
            "Requirement already satisfied: lazy-loader>=0.3 in /usr/local/lib/python3.10/dist-packages (from mne) (0.4)\n",
            "Requirement already satisfied: matplotlib>=3.5.0 in /usr/local/lib/python3.10/dist-packages (from mne) (3.7.1)\n",
            "Requirement already satisfied: numpy>=1.21.2 in /usr/local/lib/python3.10/dist-packages (from mne) (1.25.2)\n",
            "Requirement already satisfied: packaging in /usr/local/lib/python3.10/dist-packages (from mne) (24.1)\n",
            "Requirement already satisfied: pooch>=1.5 in /usr/local/lib/python3.10/dist-packages (from mne) (1.8.2)\n",
            "Requirement already satisfied: scipy>=1.7.1 in /usr/local/lib/python3.10/dist-packages (from mne) (1.11.4)\n",
            "Requirement already satisfied: tqdm in /usr/local/lib/python3.10/dist-packages (from mne) (4.66.4)\n",
            "Requirement already satisfied: contourpy>=1.0.1 in /usr/local/lib/python3.10/dist-packages (from matplotlib>=3.5.0->mne) (1.2.1)\n",
            "Requirement already satisfied: cycler>=0.10 in /usr/local/lib/python3.10/dist-packages (from matplotlib>=3.5.0->mne) (0.12.1)\n",
            "Requirement already satisfied: fonttools>=4.22.0 in /usr/local/lib/python3.10/dist-packages (from matplotlib>=3.5.0->mne) (4.53.1)\n",
            "Requirement already satisfied: kiwisolver>=1.0.1 in /usr/local/lib/python3.10/dist-packages (from matplotlib>=3.5.0->mne) (1.4.5)\n",
            "Requirement already satisfied: pillow>=6.2.0 in /usr/local/lib/python3.10/dist-packages (from matplotlib>=3.5.0->mne) (9.4.0)\n",
            "Requirement already satisfied: pyparsing>=2.3.1 in /usr/local/lib/python3.10/dist-packages (from matplotlib>=3.5.0->mne) (3.1.2)\n",
            "Requirement already satisfied: python-dateutil>=2.7 in /usr/local/lib/python3.10/dist-packages (from matplotlib>=3.5.0->mne) (2.8.2)\n",
            "Requirement already satisfied: platformdirs>=2.5.0 in /usr/local/lib/python3.10/dist-packages (from pooch>=1.5->mne) (4.2.2)\n",
            "Requirement already satisfied: requests>=2.19.0 in /usr/local/lib/python3.10/dist-packages (from pooch>=1.5->mne) (2.31.0)\n",
            "Requirement already satisfied: MarkupSafe>=2.0 in /usr/local/lib/python3.10/dist-packages (from jinja2->mne) (2.1.5)\n",
            "Requirement already satisfied: six>=1.5 in /usr/local/lib/python3.10/dist-packages (from python-dateutil>=2.7->matplotlib>=3.5.0->mne) (1.16.0)\n",
            "Requirement already satisfied: charset-normalizer<4,>=2 in /usr/local/lib/python3.10/dist-packages (from requests>=2.19.0->pooch>=1.5->mne) (3.3.2)\n",
            "Requirement already satisfied: idna<4,>=2.5 in /usr/local/lib/python3.10/dist-packages (from requests>=2.19.0->pooch>=1.5->mne) (3.7)\n",
            "Requirement already satisfied: urllib3<3,>=1.21.1 in /usr/local/lib/python3.10/dist-packages (from requests>=2.19.0->pooch>=1.5->mne) (2.0.7)\n",
            "Requirement already satisfied: certifi>=2017.4.17 in /usr/local/lib/python3.10/dist-packages (from requests>=2.19.0->pooch>=1.5->mne) (2024.7.4)\n"
          ]
        }
      ],
      "source": [
        "!pip install mne"
      ]
    },
    {
      "cell_type": "code",
      "execution_count": null,
      "metadata": {
        "id": "T6pk5FCbTAUl"
      },
      "outputs": [],
      "source": [
        "import numpy as np\n",
        "import pandas as pd\n",
        "import matplotlib.pyplot as plt\n",
        "import os\n",
        "import torch as nn\n",
        "import torch.nn.functional as F\n",
        "import torch.optim as optim\n",
        "from torch.utils.data import Dataset, DataLoader\n",
        "import numpy as np\n",
        "import torch\n",
        "from torch.utils.data import Dataset, DataLoader\n",
        "from scipy import signal\n",
        "import mne\n",
        "import os\n",
        "from matplotlib import pyplot as plt\n",
        "from mne.datasets import sample\n",
        "from mne.preprocessing import EOGRegression\n",
        "import matplotlib.pyplot as plt\n",
        "import pandas\n",
        "from scipy.signal import spectrogram\n",
        "import torch.nn as nn\n",
        "import tensorflow as tf\n",
        "from tensorflow.keras import utils as np_utils\n",
        "from tensorflow.keras.callbacks import ModelCheckpoint\n",
        "from tensorflow.keras import backend as K\n",
        "from keras.utils import to_categorical\n",
        "\n",
        "from sklearn.pipeline import make_pipeline\n",
        "from sklearn.linear_model import LogisticRegression\n",
        "\n",
        "# tools for plotting confusion matrices\n",
        "from matplotlib import pyplot as plt\n",
        "import numpy as np\n",
        "from sklearn.metrics import roc_auc_score, precision_score, recall_score, accuracy_score\n",
        "import torch\n",
        "import torch.nn as nn\n",
        "import torch.optim as optim\n",
        "from torch.autograd import Variable\n",
        "import torch.nn.functional as F\n",
        "import torch.optim as optim"
      ]
    },
    {
      "cell_type": "code",
      "execution_count": null,
      "metadata": {
        "colab": {
          "base_uri": "https://localhost:8080/"
        },
        "id": "RrVc1Epph_-J",
        "outputId": "331f7eb8-3c13-486b-9fcd-3b96bb575b41"
      },
      "outputs": [
        {
          "output_type": "stream",
          "name": "stdout",
          "text": [
            "fatal: destination path 'arl-eegmodels' already exists and is not an empty directory.\n",
            "/content/arl-eegmodels\n"
          ]
        }
      ],
      "source": [
        "!git clone https://github.com/vlawhern/arl-eegmodels.git\n",
        "%cd arl-eegmodels\n",
        "from EEGModels import EEGNet\n"
      ]
    },
    {
      "cell_type": "code",
      "execution_count": null,
      "metadata": {
        "id": "5yEd0mlbLIMQ"
      },
      "outputs": [],
      "source": []
    },
    {
      "cell_type": "markdown",
      "metadata": {
        "id": "3N7243VvTAUm"
      },
      "source": [
        "# Loading dataset"
      ]
    },
    {
      "cell_type": "code",
      "execution_count": null,
      "metadata": {
        "colab": {
          "base_uri": "https://localhost:8080/"
        },
        "id": "BYOUbxBgUHw9",
        "outputId": "80ba3407-6cbc-445b-f8b0-43c9ef567309"
      },
      "outputs": [
        {
          "output_type": "stream",
          "name": "stdout",
          "text": [
            "fatal: destination path 'BCICIV2a-FBCSP' already exists and is not an empty directory.\n",
            "/content/arl-eegmodels/BCICIV2a-FBCSP/datasets\n"
          ]
        }
      ],
      "source": [
        "# Clone the repository\n",
        "!git clone https://github.com/orvindemsy/BCICIV2a-FBCSP.git\n",
        "\n",
        "# Navigate to the folder (if needed)\n",
        "%cd BCICIV2a-FBCSP/datasets"
      ]
    },
    {
      "cell_type": "code",
      "execution_count": null,
      "metadata": {
        "id": "BHGrVE1gTAUm"
      },
      "outputs": [],
      "source": [
        "# First import the data\n",
        "\n",
        "# Number of subject, n + 1 for iteration purpose (there are 9 subjects)\n",
        "ns = 10\n",
        "\n",
        "# Creating dict to store original data and modified data\n",
        "# ori_data will serve as initial loaded data that will remain unchanged\n",
        "# mod_data will contain modified original data\n",
        "ori_data = dict()\n",
        "mod_data = dict()"
      ]
    },
    {
      "cell_type": "code",
      "execution_count": null,
      "metadata": {
        "id": "D9wUwxfyTAUm"
      },
      "outputs": [],
      "source": [
        "# Function to count subject\n",
        "def subject_counter(i):\n",
        "    return 'subject0{}'.format(i)"
      ]
    },
    {
      "cell_type": "code",
      "execution_count": null,
      "metadata": {
        "colab": {
          "base_uri": "https://localhost:8080/"
        },
        "id": "Wvn86LEATAUm",
        "outputId": "dec7f4d1-9517-45e3-8b73-2fcc74e29294"
      },
      "outputs": [
        {
          "output_type": "stream",
          "name": "stdout",
          "text": [
            "Running the notebook locally..\n"
          ]
        }
      ],
      "source": [
        "# Path manipulation if running in dev container\n",
        "if os.getcwd() == '/':\n",
        "    print(\"Running the notebook it inside dev container..\")\n",
        "    base_dir = os.environ[\"DOCKER_WORKDIR\"]\n",
        "else:\n",
        "    print(\"Running the notebook locally..\")\n",
        "    base_dir = os.getcwd()"
      ]
    },
    {
      "cell_type": "code",
      "execution_count": null,
      "metadata": {
        "id": "d4RrcITBTAUn"
      },
      "outputs": [],
      "source": [
        "# Load the training data of all subjects\n",
        "\n",
        "# Iter over all data path then store them in sub0X variable\n",
        "for i in range(1, 9):\n",
        "\n",
        "    if i in [4,5,6,7]:  # Skip subject 4\n",
        "        continue\n",
        "    data_path = os.path.join(base_dir, './A{:02d}T.npz'.format(i))\n",
        "    subject = 'subject{:02d}'.format(i)\n",
        "\n",
        "    # Load EEG data from datapath and store into subj0X variabel then store into data dictionary\n",
        "    ori_data[subject] = np.load(data_path)"
      ]
    },
    {
      "cell_type": "code",
      "execution_count": null,
      "metadata": {
        "colab": {
          "base_uri": "https://localhost:8080/"
        },
        "id": "i_qvKYflTAUn",
        "outputId": "6df6e0db-3176-4f4e-85d9-955e2dddac6f"
      },
      "outputs": [
        {
          "output_type": "stream",
          "name": "stdout",
          "text": [
            "<class 'numpy.lib.npyio.NpzFile'>\n",
            "['s', 'etyp', 'epos', 'edur', 'artifacts']\n"
          ]
        }
      ],
      "source": [
        "# Peek into ori_data type and its keys\n",
        "print(type(ori_data['subject01']))\n",
        "print(ori_data['subject01'].files)"
      ]
    },
    {
      "cell_type": "code",
      "execution_count": null,
      "metadata": {
        "colab": {
          "base_uri": "https://localhost:8080/"
        },
        "id": "UUSOf40YTAUn",
        "outputId": "bce4ad18-8089-4e0a-cc91-16d041f907c4"
      },
      "outputs": [
        {
          "output_type": "execute_result",
          "data": {
            "text/plain": [
              "array([0, 1, 0, 0, 0, 0, 0, 0, 0, 0, 0, 0, 0, 0, 0, 0, 0, 0, 0, 0, 0, 0,\n",
              "       0, 0, 0, 1, 0, 0, 0, 0], dtype=uint8)"
            ]
          },
          "metadata": {},
          "execution_count": 10
        }
      ],
      "source": [
        "ori_data['subject01']['artifacts'].ravel()[20:50]"
      ]
    },
    {
      "cell_type": "markdown",
      "metadata": {
        "id": "MZ_EoKBfTAUn"
      },
      "source": [
        "Explanation regarding contents of the keys inside each subject data:\n",
        "* **s**: 's' contains continuous time-series recorded EEG signals are, shape of M x N array. Size may vary between subjects but N is fixed to 25, indicates 25 electrodes with 22 first EEG and 3 last EOG\n",
        "* **etype**: 'etyp' stands for event type which indicate event occurence, event code will be describe in subsequent table\n",
        "* **epos**: 'epos' stands for event position, denoting corresponding event begins at n-th sample at **'s'**\n",
        "* **edur**: 'edur' stands for event duration, denoting duration of corresponding event\n",
        "* **artifacts**: size of 288 x 1, 288 comes form 6 x 48, 6 runs where @run has 48 trials, @class has 12 trials"
      ]
    },
    {
      "cell_type": "code",
      "execution_count": null,
      "metadata": {
        "id": "Yfq8AgmRTAUo"
      },
      "outputs": [],
      "source": [
        "# ori_data will contain original data that is the raw file\n",
        "# mod_data will contain modified original data\n",
        "\n",
        "# Initialize 'subject0x' dict inside mod_data\n",
        "for i in range(1, 9):\n",
        "    subj = subject_counter(i)\n",
        "    mod_data[subj] = {}"
      ]
    },
    {
      "cell_type": "code",
      "execution_count": null,
      "metadata": {
        "colab": {
          "base_uri": "https://localhost:8080/"
        },
        "id": "1frzj0c_TAUo",
        "outputId": "d990d3bd-31c0-494b-c641-5f192c646b58"
      },
      "outputs": [
        {
          "output_type": "stream",
          "name": "stdout",
          "text": [
            "Sample\tElectrodes\n",
            "(672528, 25)\n",
            "(677169, 25)\n",
            "(660530, 25)\n",
            "(675270, 25)\n"
          ]
        }
      ],
      "source": [
        "# Peek into different shape of recorded data/'s' between subjects\n",
        "print('Sample\\tElectrodes')\n",
        "for i in range(1, 9):\n",
        "\n",
        "    if i in [4,5,6,7]:  # Skip subject 4\n",
        "        continue\n",
        "    subj_temp = subject_counter(i)\n",
        "    print(ori_data[subj_temp]['s'].shape)"
      ]
    },
    {
      "cell_type": "code",
      "execution_count": null,
      "metadata": {
        "id": "byPZSu3tTAUo"
      },
      "outputs": [],
      "source": [
        "# First extract the sample data from ori_data into mod_data\n",
        "\n",
        "for i in range(1, 9):\n",
        "    if i in [4,5,6,7]:  # Skip subject 4\n",
        "        continue\n",
        "    subj = subject_counter(i)\n",
        "    mod_data[subj]['raw_EEG'] = ori_data[subj]['s']"
      ]
    },
    {
      "cell_type": "code",
      "execution_count": null,
      "metadata": {
        "colab": {
          "base_uri": "https://localhost:8080/",
          "height": 255
        },
        "id": "N0SUgbdXTAUp",
        "outputId": "3422ae36-5137-440b-ec9f-b457f97d4133"
      },
      "outputs": [
        {
          "output_type": "execute_result",
          "data": {
            "text/plain": [
              "          0          1          2          3          4          5   \\\n",
              "0 -21.142578 -23.681641 -21.484375 -25.146484 -25.732422 -27.929688   \n",
              "1 -21.923828 -23.925781 -24.316406 -25.341797 -26.074219 -25.244141   \n",
              "2 -15.625000 -19.726562 -18.847656 -21.582031 -20.751953 -21.728516   \n",
              "3 -16.699219 -13.720703 -20.361328 -20.849609 -24.169922 -22.021484   \n",
              "4 -19.335938 -17.626953 -20.410156 -26.464844 -27.392578 -29.882812   \n",
              "\n",
              "          6          7          8          9   ...         15         16  \\\n",
              "0 -14.550781 -22.509766 -25.439453 -28.710938  ... -30.615234 -29.638672   \n",
              "1 -16.064453 -22.753906 -28.320312 -29.248047  ... -31.054688 -30.712891   \n",
              "2 -12.451172 -20.410156 -23.730469 -25.927734  ... -28.759766 -28.417969   \n",
              "3 -10.986328 -16.357422 -25.585938 -24.951172  ... -27.783203 -28.857422   \n",
              "4  -9.277344 -18.359375 -24.609375 -30.517578  ... -31.884766 -33.740234   \n",
              "\n",
              "          17         18         19         20         21         22  \\\n",
              "0 -26.660156 -20.947266 -25.439453 -24.902344 -19.677734  31.738281   \n",
              "1 -26.123047 -22.998047 -27.099609 -26.367188 -23.339844  22.460938   \n",
              "2 -24.462891 -21.386719 -25.097656 -24.267578 -21.484375  33.691406   \n",
              "3 -25.537109 -19.335938 -24.316406 -24.511719 -17.919922  41.992188   \n",
              "4 -32.666016 -18.554688 -26.611328 -28.466797 -18.408203  37.109375   \n",
              "\n",
              "          23         24  \n",
              "0 -13.671875 -43.945312  \n",
              "1 -13.183594 -40.527344  \n",
              "2  -8.300781 -38.574219  \n",
              "3  -7.324219 -38.574219  \n",
              "4 -15.136719 -49.804688  \n",
              "\n",
              "[5 rows x 25 columns]"
            ],
            "text/html": [
              "\n",
              "  <div id=\"df-41e4c515-42c0-4b48-9d90-fea76d832fe2\" class=\"colab-df-container\">\n",
              "    <div>\n",
              "<style scoped>\n",
              "    .dataframe tbody tr th:only-of-type {\n",
              "        vertical-align: middle;\n",
              "    }\n",
              "\n",
              "    .dataframe tbody tr th {\n",
              "        vertical-align: top;\n",
              "    }\n",
              "\n",
              "    .dataframe thead th {\n",
              "        text-align: right;\n",
              "    }\n",
              "</style>\n",
              "<table border=\"1\" class=\"dataframe\">\n",
              "  <thead>\n",
              "    <tr style=\"text-align: right;\">\n",
              "      <th></th>\n",
              "      <th>0</th>\n",
              "      <th>1</th>\n",
              "      <th>2</th>\n",
              "      <th>3</th>\n",
              "      <th>4</th>\n",
              "      <th>5</th>\n",
              "      <th>6</th>\n",
              "      <th>7</th>\n",
              "      <th>8</th>\n",
              "      <th>9</th>\n",
              "      <th>...</th>\n",
              "      <th>15</th>\n",
              "      <th>16</th>\n",
              "      <th>17</th>\n",
              "      <th>18</th>\n",
              "      <th>19</th>\n",
              "      <th>20</th>\n",
              "      <th>21</th>\n",
              "      <th>22</th>\n",
              "      <th>23</th>\n",
              "      <th>24</th>\n",
              "    </tr>\n",
              "  </thead>\n",
              "  <tbody>\n",
              "    <tr>\n",
              "      <th>0</th>\n",
              "      <td>-21.142578</td>\n",
              "      <td>-23.681641</td>\n",
              "      <td>-21.484375</td>\n",
              "      <td>-25.146484</td>\n",
              "      <td>-25.732422</td>\n",
              "      <td>-27.929688</td>\n",
              "      <td>-14.550781</td>\n",
              "      <td>-22.509766</td>\n",
              "      <td>-25.439453</td>\n",
              "      <td>-28.710938</td>\n",
              "      <td>...</td>\n",
              "      <td>-30.615234</td>\n",
              "      <td>-29.638672</td>\n",
              "      <td>-26.660156</td>\n",
              "      <td>-20.947266</td>\n",
              "      <td>-25.439453</td>\n",
              "      <td>-24.902344</td>\n",
              "      <td>-19.677734</td>\n",
              "      <td>31.738281</td>\n",
              "      <td>-13.671875</td>\n",
              "      <td>-43.945312</td>\n",
              "    </tr>\n",
              "    <tr>\n",
              "      <th>1</th>\n",
              "      <td>-21.923828</td>\n",
              "      <td>-23.925781</td>\n",
              "      <td>-24.316406</td>\n",
              "      <td>-25.341797</td>\n",
              "      <td>-26.074219</td>\n",
              "      <td>-25.244141</td>\n",
              "      <td>-16.064453</td>\n",
              "      <td>-22.753906</td>\n",
              "      <td>-28.320312</td>\n",
              "      <td>-29.248047</td>\n",
              "      <td>...</td>\n",
              "      <td>-31.054688</td>\n",
              "      <td>-30.712891</td>\n",
              "      <td>-26.123047</td>\n",
              "      <td>-22.998047</td>\n",
              "      <td>-27.099609</td>\n",
              "      <td>-26.367188</td>\n",
              "      <td>-23.339844</td>\n",
              "      <td>22.460938</td>\n",
              "      <td>-13.183594</td>\n",
              "      <td>-40.527344</td>\n",
              "    </tr>\n",
              "    <tr>\n",
              "      <th>2</th>\n",
              "      <td>-15.625000</td>\n",
              "      <td>-19.726562</td>\n",
              "      <td>-18.847656</td>\n",
              "      <td>-21.582031</td>\n",
              "      <td>-20.751953</td>\n",
              "      <td>-21.728516</td>\n",
              "      <td>-12.451172</td>\n",
              "      <td>-20.410156</td>\n",
              "      <td>-23.730469</td>\n",
              "      <td>-25.927734</td>\n",
              "      <td>...</td>\n",
              "      <td>-28.759766</td>\n",
              "      <td>-28.417969</td>\n",
              "      <td>-24.462891</td>\n",
              "      <td>-21.386719</td>\n",
              "      <td>-25.097656</td>\n",
              "      <td>-24.267578</td>\n",
              "      <td>-21.484375</td>\n",
              "      <td>33.691406</td>\n",
              "      <td>-8.300781</td>\n",
              "      <td>-38.574219</td>\n",
              "    </tr>\n",
              "    <tr>\n",
              "      <th>3</th>\n",
              "      <td>-16.699219</td>\n",
              "      <td>-13.720703</td>\n",
              "      <td>-20.361328</td>\n",
              "      <td>-20.849609</td>\n",
              "      <td>-24.169922</td>\n",
              "      <td>-22.021484</td>\n",
              "      <td>-10.986328</td>\n",
              "      <td>-16.357422</td>\n",
              "      <td>-25.585938</td>\n",
              "      <td>-24.951172</td>\n",
              "      <td>...</td>\n",
              "      <td>-27.783203</td>\n",
              "      <td>-28.857422</td>\n",
              "      <td>-25.537109</td>\n",
              "      <td>-19.335938</td>\n",
              "      <td>-24.316406</td>\n",
              "      <td>-24.511719</td>\n",
              "      <td>-17.919922</td>\n",
              "      <td>41.992188</td>\n",
              "      <td>-7.324219</td>\n",
              "      <td>-38.574219</td>\n",
              "    </tr>\n",
              "    <tr>\n",
              "      <th>4</th>\n",
              "      <td>-19.335938</td>\n",
              "      <td>-17.626953</td>\n",
              "      <td>-20.410156</td>\n",
              "      <td>-26.464844</td>\n",
              "      <td>-27.392578</td>\n",
              "      <td>-29.882812</td>\n",
              "      <td>-9.277344</td>\n",
              "      <td>-18.359375</td>\n",
              "      <td>-24.609375</td>\n",
              "      <td>-30.517578</td>\n",
              "      <td>...</td>\n",
              "      <td>-31.884766</td>\n",
              "      <td>-33.740234</td>\n",
              "      <td>-32.666016</td>\n",
              "      <td>-18.554688</td>\n",
              "      <td>-26.611328</td>\n",
              "      <td>-28.466797</td>\n",
              "      <td>-18.408203</td>\n",
              "      <td>37.109375</td>\n",
              "      <td>-15.136719</td>\n",
              "      <td>-49.804688</td>\n",
              "    </tr>\n",
              "  </tbody>\n",
              "</table>\n",
              "<p>5 rows × 25 columns</p>\n",
              "</div>\n",
              "    <div class=\"colab-df-buttons\">\n",
              "\n",
              "  <div class=\"colab-df-container\">\n",
              "    <button class=\"colab-df-convert\" onclick=\"convertToInteractive('df-41e4c515-42c0-4b48-9d90-fea76d832fe2')\"\n",
              "            title=\"Convert this dataframe to an interactive table.\"\n",
              "            style=\"display:none;\">\n",
              "\n",
              "  <svg xmlns=\"http://www.w3.org/2000/svg\" height=\"24px\" viewBox=\"0 -960 960 960\">\n",
              "    <path d=\"M120-120v-720h720v720H120Zm60-500h600v-160H180v160Zm220 220h160v-160H400v160Zm0 220h160v-160H400v160ZM180-400h160v-160H180v160Zm440 0h160v-160H620v160ZM180-180h160v-160H180v160Zm440 0h160v-160H620v160Z\"/>\n",
              "  </svg>\n",
              "    </button>\n",
              "\n",
              "  <style>\n",
              "    .colab-df-container {\n",
              "      display:flex;\n",
              "      gap: 12px;\n",
              "    }\n",
              "\n",
              "    .colab-df-convert {\n",
              "      background-color: #E8F0FE;\n",
              "      border: none;\n",
              "      border-radius: 50%;\n",
              "      cursor: pointer;\n",
              "      display: none;\n",
              "      fill: #1967D2;\n",
              "      height: 32px;\n",
              "      padding: 0 0 0 0;\n",
              "      width: 32px;\n",
              "    }\n",
              "\n",
              "    .colab-df-convert:hover {\n",
              "      background-color: #E2EBFA;\n",
              "      box-shadow: 0px 1px 2px rgba(60, 64, 67, 0.3), 0px 1px 3px 1px rgba(60, 64, 67, 0.15);\n",
              "      fill: #174EA6;\n",
              "    }\n",
              "\n",
              "    .colab-df-buttons div {\n",
              "      margin-bottom: 4px;\n",
              "    }\n",
              "\n",
              "    [theme=dark] .colab-df-convert {\n",
              "      background-color: #3B4455;\n",
              "      fill: #D2E3FC;\n",
              "    }\n",
              "\n",
              "    [theme=dark] .colab-df-convert:hover {\n",
              "      background-color: #434B5C;\n",
              "      box-shadow: 0px 1px 3px 1px rgba(0, 0, 0, 0.15);\n",
              "      filter: drop-shadow(0px 1px 2px rgba(0, 0, 0, 0.3));\n",
              "      fill: #FFFFFF;\n",
              "    }\n",
              "  </style>\n",
              "\n",
              "    <script>\n",
              "      const buttonEl =\n",
              "        document.querySelector('#df-41e4c515-42c0-4b48-9d90-fea76d832fe2 button.colab-df-convert');\n",
              "      buttonEl.style.display =\n",
              "        google.colab.kernel.accessAllowed ? 'block' : 'none';\n",
              "\n",
              "      async function convertToInteractive(key) {\n",
              "        const element = document.querySelector('#df-41e4c515-42c0-4b48-9d90-fea76d832fe2');\n",
              "        const dataTable =\n",
              "          await google.colab.kernel.invokeFunction('convertToInteractive',\n",
              "                                                    [key], {});\n",
              "        if (!dataTable) return;\n",
              "\n",
              "        const docLinkHtml = 'Like what you see? Visit the ' +\n",
              "          '<a target=\"_blank\" href=https://colab.research.google.com/notebooks/data_table.ipynb>data table notebook</a>'\n",
              "          + ' to learn more about interactive tables.';\n",
              "        element.innerHTML = '';\n",
              "        dataTable['output_type'] = 'display_data';\n",
              "        await google.colab.output.renderOutput(dataTable, element);\n",
              "        const docLink = document.createElement('div');\n",
              "        docLink.innerHTML = docLinkHtml;\n",
              "        element.appendChild(docLink);\n",
              "      }\n",
              "    </script>\n",
              "  </div>\n",
              "\n",
              "\n",
              "<div id=\"df-3987c672-66c2-4da4-aee9-f7f64cec16d4\">\n",
              "  <button class=\"colab-df-quickchart\" onclick=\"quickchart('df-3987c672-66c2-4da4-aee9-f7f64cec16d4')\"\n",
              "            title=\"Suggest charts\"\n",
              "            style=\"display:none;\">\n",
              "\n",
              "<svg xmlns=\"http://www.w3.org/2000/svg\" height=\"24px\"viewBox=\"0 0 24 24\"\n",
              "     width=\"24px\">\n",
              "    <g>\n",
              "        <path d=\"M19 3H5c-1.1 0-2 .9-2 2v14c0 1.1.9 2 2 2h14c1.1 0 2-.9 2-2V5c0-1.1-.9-2-2-2zM9 17H7v-7h2v7zm4 0h-2V7h2v10zm4 0h-2v-4h2v4z\"/>\n",
              "    </g>\n",
              "</svg>\n",
              "  </button>\n",
              "\n",
              "<style>\n",
              "  .colab-df-quickchart {\n",
              "      --bg-color: #E8F0FE;\n",
              "      --fill-color: #1967D2;\n",
              "      --hover-bg-color: #E2EBFA;\n",
              "      --hover-fill-color: #174EA6;\n",
              "      --disabled-fill-color: #AAA;\n",
              "      --disabled-bg-color: #DDD;\n",
              "  }\n",
              "\n",
              "  [theme=dark] .colab-df-quickchart {\n",
              "      --bg-color: #3B4455;\n",
              "      --fill-color: #D2E3FC;\n",
              "      --hover-bg-color: #434B5C;\n",
              "      --hover-fill-color: #FFFFFF;\n",
              "      --disabled-bg-color: #3B4455;\n",
              "      --disabled-fill-color: #666;\n",
              "  }\n",
              "\n",
              "  .colab-df-quickchart {\n",
              "    background-color: var(--bg-color);\n",
              "    border: none;\n",
              "    border-radius: 50%;\n",
              "    cursor: pointer;\n",
              "    display: none;\n",
              "    fill: var(--fill-color);\n",
              "    height: 32px;\n",
              "    padding: 0;\n",
              "    width: 32px;\n",
              "  }\n",
              "\n",
              "  .colab-df-quickchart:hover {\n",
              "    background-color: var(--hover-bg-color);\n",
              "    box-shadow: 0 1px 2px rgba(60, 64, 67, 0.3), 0 1px 3px 1px rgba(60, 64, 67, 0.15);\n",
              "    fill: var(--button-hover-fill-color);\n",
              "  }\n",
              "\n",
              "  .colab-df-quickchart-complete:disabled,\n",
              "  .colab-df-quickchart-complete:disabled:hover {\n",
              "    background-color: var(--disabled-bg-color);\n",
              "    fill: var(--disabled-fill-color);\n",
              "    box-shadow: none;\n",
              "  }\n",
              "\n",
              "  .colab-df-spinner {\n",
              "    border: 2px solid var(--fill-color);\n",
              "    border-color: transparent;\n",
              "    border-bottom-color: var(--fill-color);\n",
              "    animation:\n",
              "      spin 1s steps(1) infinite;\n",
              "  }\n",
              "\n",
              "  @keyframes spin {\n",
              "    0% {\n",
              "      border-color: transparent;\n",
              "      border-bottom-color: var(--fill-color);\n",
              "      border-left-color: var(--fill-color);\n",
              "    }\n",
              "    20% {\n",
              "      border-color: transparent;\n",
              "      border-left-color: var(--fill-color);\n",
              "      border-top-color: var(--fill-color);\n",
              "    }\n",
              "    30% {\n",
              "      border-color: transparent;\n",
              "      border-left-color: var(--fill-color);\n",
              "      border-top-color: var(--fill-color);\n",
              "      border-right-color: var(--fill-color);\n",
              "    }\n",
              "    40% {\n",
              "      border-color: transparent;\n",
              "      border-right-color: var(--fill-color);\n",
              "      border-top-color: var(--fill-color);\n",
              "    }\n",
              "    60% {\n",
              "      border-color: transparent;\n",
              "      border-right-color: var(--fill-color);\n",
              "    }\n",
              "    80% {\n",
              "      border-color: transparent;\n",
              "      border-right-color: var(--fill-color);\n",
              "      border-bottom-color: var(--fill-color);\n",
              "    }\n",
              "    90% {\n",
              "      border-color: transparent;\n",
              "      border-bottom-color: var(--fill-color);\n",
              "    }\n",
              "  }\n",
              "</style>\n",
              "\n",
              "  <script>\n",
              "    async function quickchart(key) {\n",
              "      const quickchartButtonEl =\n",
              "        document.querySelector('#' + key + ' button');\n",
              "      quickchartButtonEl.disabled = true;  // To prevent multiple clicks.\n",
              "      quickchartButtonEl.classList.add('colab-df-spinner');\n",
              "      try {\n",
              "        const charts = await google.colab.kernel.invokeFunction(\n",
              "            'suggestCharts', [key], {});\n",
              "      } catch (error) {\n",
              "        console.error('Error during call to suggestCharts:', error);\n",
              "      }\n",
              "      quickchartButtonEl.classList.remove('colab-df-spinner');\n",
              "      quickchartButtonEl.classList.add('colab-df-quickchart-complete');\n",
              "    }\n",
              "    (() => {\n",
              "      let quickchartButtonEl =\n",
              "        document.querySelector('#df-3987c672-66c2-4da4-aee9-f7f64cec16d4 button');\n",
              "      quickchartButtonEl.style.display =\n",
              "        google.colab.kernel.accessAllowed ? 'block' : 'none';\n",
              "    })();\n",
              "  </script>\n",
              "</div>\n",
              "\n",
              "    </div>\n",
              "  </div>\n"
            ],
            "application/vnd.google.colaboratory.intrinsic+json": {
              "type": "dataframe"
            }
          },
          "metadata": {},
          "execution_count": 14
        }
      ],
      "source": [
        "# Visualizing sample_data inside subject01\n",
        "# You can see that it has 25 electrodes stored in columns\n",
        "pd.DataFrame(mod_data['subject01']['raw_EEG']).head()"
      ]
    },
    {
      "cell_type": "markdown",
      "metadata": {
        "id": "5KWQhuL3TAUp"
      },
      "source": [
        "# Preprocessing"
      ]
    },
    {
      "cell_type": "code",
      "execution_count": null,
      "metadata": {
        "id": "h_zjdosiTAUp"
      },
      "outputs": [],
      "source": [
        "# Removing last three EOG electrode using np.delete, store data as EEG_only to each subject dict\n",
        "\n",
        "for i in range(1, 9):\n",
        "    if i in [4,5,6,7]:  # Skip subject 4\n",
        "        continue\n",
        "    subj = subject_counter(i)\n",
        "    mod_data[subj]['raw_EEG'] = np.delete(mod_data[subj]['raw_EEG'], np.s_[22:], 1)"
      ]
    },
    {
      "cell_type": "markdown",
      "metadata": {
        "id": "3sfYySrENphd"
      },
      "source": []
    },
    {
      "cell_type": "markdown",
      "metadata": {
        "id": "C5gCDcjdTAUp"
      },
      "source": [
        "## Bandpass Filtering\n",
        "The first stage employing a filter bank is to decompose EEG into multiple frequency pass band, using causal Chebysev Type II filter/ Butterworth Filter.  \n",
        "A total of 9 band-pass filters are used, namely, 4-8, 8-12, ... 36-40 Hz  \n",
        "These frequency ranges are used because they yielf a stable frequency response and cover range of 4-40 Hz"
      ]
    },
    {
      "cell_type": "code",
      "execution_count": null,
      "metadata": {
        "id": "SJkRsM6mTAUp"
      },
      "outputs": [],
      "source": [
        "# Band pass filter with butterworth filter\n",
        "from scipy.signal import butter, lfilter\n",
        "from scipy.signal import freqz"
      ]
    },
    {
      "cell_type": "code",
      "execution_count": null,
      "metadata": {
        "id": "N2vDzb6RTAUp"
      },
      "outputs": [],
      "source": [
        "def butter_bandpass_filter(signal, lowcut, highcut, fs, order=5):\n",
        "    nyq = 0.5 * fs\n",
        "    low = lowcut/nyq\n",
        "    high = highcut/nyq\n",
        "    b,a = butter(order, [low, high], btype='band')\n",
        "    y = lfilter(b, a, signal, axis=-1)\n",
        "\n",
        "    return y"
      ]
    },
    {
      "cell_type": "markdown",
      "metadata": {
        "id": "JKu7ctM7TAUp"
      },
      "source": [
        "### Practice\n",
        "Create arbitrary signal and using butterworth signal as band-pass filter"
      ]
    },
    {
      "cell_type": "code",
      "execution_count": null,
      "metadata": {
        "id": "tj4irVztTAUq"
      },
      "outputs": [],
      "source": [
        "# INPUT\n",
        "# sampling frequency\n",
        "fs = 500\n",
        "\n",
        "# time\n",
        "t = np.arange(0, 5, 1/fs)\n",
        "\n",
        "# Three signals with various freq\n",
        "x1 = np.sin(2 * np.pi * 6 * t)\n",
        "x2 = np.sin(2 * np.pi * 7 * t)\n",
        "x3 = np.sin(2 * np.pi * 50 * t)\n",
        "x = x1 + x2 + x3"
      ]
    },
    {
      "cell_type": "code",
      "execution_count": null,
      "metadata": {
        "colab": {
          "base_uri": "https://localhost:8080/",
          "height": 250
        },
        "id": "VnMMFgN3TAUq",
        "outputId": "92d7f9e0-28e4-45af-af3f-79c46ef477e9"
      },
      "outputs": [
        {
          "output_type": "display_data",
          "data": {
            "text/plain": [
              "<Figure size 400x240 with 1 Axes>"
            ],
            "image/png": "[encoded data removed]"
          },
          "metadata": {}
        }
      ],
      "source": [
        "# Plot input\n",
        "plt.figure(figsize=(5, 3), dpi=80)\n",
        "plt.clf()\n",
        "plt.plot(t, x)\n",
        "plt.xlabel('time (seconds)')\n",
        "plt.show()"
      ]
    },
    {
      "cell_type": "code",
      "execution_count": null,
      "metadata": {
        "id": "Im6eaobmTAUq"
      },
      "outputs": [],
      "source": [
        "# OUTPUT\n",
        "lowcut = 4\n",
        "highcut = 8\n",
        "y= butter_bandpass_filter(x, lowcut, highcut, fs, order=5)"
      ]
    },
    {
      "cell_type": "code",
      "execution_count": null,
      "metadata": {
        "colab": {
          "base_uri": "https://localhost:8080/",
          "height": 250
        },
        "id": "7LYDZGDOTAUq",
        "outputId": "e7aedd5c-aedc-4bfa-9920-b418691194fd"
      },
      "outputs": [
        {
          "output_type": "display_data",
          "data": {
            "text/plain": [
              "<Figure size 400x240 with 1 Axes>"
            ],
            "image/png": "[encoded data removed]"
          },
          "metadata": {}
        }
      ],
      "source": [
        "# Plot output\n",
        "plt.figure(figsize=(5, 3), dpi=80)\n",
        "plt.clf()\n",
        "plt.plot(t, y, label='Filtered signal (%g Hz)' %fs)\n",
        "plt.xlabel('time (seconds)')\n",
        "plt.grid(True)\n",
        "plt.show()"
      ]
    },
    {
      "cell_type": "markdown",
      "metadata": {
        "id": "B2huZo0iTAUq"
      },
      "source": [
        "### Filtering EEG signal with Butterworth Band-pass\n",
        "Following the steps mentioned in [1], there will be 8 band-pass filter with bandwidth of:\n",
        "1. 4-8Hz\n",
        "2. 8-12Hz\n",
        "3. 12-16Hz\n",
        "4. 16-20Hz\n",
        "5. 20-24Hz\n",
        "6. 24-28Hz\n",
        "7. 28-32Hz\n",
        "8. 32-36Hz\n",
        "9. 36-40Hz\n",
        "\n",
        "*Note*   \n",
        "Apply filter to the time-series axis, thus set 'raw_EEG' inside each subject to shape of N x T (i.e. electrodes x samples)"
      ]
    },
    {
      "cell_type": "code",
      "execution_count": null,
      "metadata": {
        "colab": {
          "base_uri": "https://localhost:8080/"
        },
        "id": "Vs3DtRlzTAUq",
        "outputId": "33feeb1a-247e-4add-bbb8-57f903239bbe"
      },
      "outputs": [
        {
          "output_type": "stream",
          "name": "stdout",
          "text": [
            "(22, 672528)\n",
            "(22, 677169)\n",
            "(22, 660530)\n",
            "(22, 675270)\n"
          ]
        }
      ],
      "source": [
        "# Transpose all 'raw_EEG' data\n",
        "\n",
        "for i in range(1, 9):\n",
        "    if i in [4,5,6,7]:  # Skip subject 4\n",
        "        continue\n",
        "    subj = subject_counter(i)\n",
        "\n",
        "    while mod_data[subj]['raw_EEG'].shape[0] != 22:\n",
        "        mod_data[subj]['raw_EEG'] = mod_data[subj]['raw_EEG'].T\n",
        "\n",
        "    print(mod_data[subj]['raw_EEG'].shape)"
      ]
    },
    {
      "cell_type": "code",
      "execution_count": null,
      "metadata": {
        "id": "UV5OLSU1TAUq"
      },
      "outputs": [],
      "source": [
        "# Create function that could bandpass filtered one subject\n",
        "def butter_bandpass_one_subject(data, subj, lowcut, highcut, fs, interval=None):\n",
        "    print('Processing ', subj)\n",
        "\n",
        "    # Create new key 'EEG_filtered' to store filtered EEG of each subject\n",
        "    data[subj]['EEG_filtered'] = {}\n",
        "\n",
        "    # Current raw EEG\n",
        "    temp_raw_EEG = data[subj]['raw_EEG']\n",
        "\n",
        "    if interval is not None:\n",
        "        startband = np.arange(lowcut, highcut, step = interval)\n",
        "\n",
        "        for start in startband:\n",
        "            # This will be new key inside the EEG_filtered\n",
        "            band = \"{:02d}_{:02d}\".format(start, start+interval)\n",
        "\n",
        "            print('Filtering through {} Hz band'.format(band))\n",
        "            # Bandpass filtering\n",
        "            data[subj]['EEG_filtered'][band] = {}\n",
        "            data[subj]['EEG_filtered'][band]['EEG_all'] = butter_bandpass_filter(temp_raw_EEG, start, start+interval, fs)\n",
        "\n",
        "    else:\n",
        "        # This will be new key inside the EEG_filtered\n",
        "        band = \"{:02d}_{:02d}\".format(lowcut, highcut)\n",
        "\n",
        "        data[subj]['EEG_filtered'][band]['EEG_all'] = butter_bandpass_filter(temp_raw_EEG, lowcut, highcut, fs)"
      ]
    },
    {
      "cell_type": "code",
      "execution_count": null,
      "metadata": {
        "colab": {
          "base_uri": "https://localhost:8080/"
        },
        "id": "IDPS7wFxTAUr",
        "outputId": "64b3019f-c16a-4afc-b929-61eceda6a91e"
      },
      "outputs": [
        {
          "output_type": "stream",
          "name": "stdout",
          "text": [
            "Processing  subject01\n",
            "Filtering through 04_08 Hz band\n",
            "Filtering through 08_12 Hz band\n",
            "Filtering through 12_16 Hz band\n",
            "Filtering through 16_20 Hz band\n",
            "Filtering through 20_24 Hz band\n",
            "Filtering through 24_28 Hz band\n",
            "Filtering through 28_32 Hz band\n",
            "Filtering through 32_36 Hz band\n",
            "Filtering through 36_40 Hz band\n",
            "\n",
            "Processing  subject02\n",
            "Filtering through 04_08 Hz band\n",
            "Filtering through 08_12 Hz band\n",
            "Filtering through 12_16 Hz band\n",
            "Filtering through 16_20 Hz band\n",
            "Filtering through 20_24 Hz band\n",
            "Filtering through 24_28 Hz band\n",
            "Filtering through 28_32 Hz band\n",
            "Filtering through 32_36 Hz band\n",
            "Filtering through 36_40 Hz band\n",
            "\n",
            "Processing  subject03\n",
            "Filtering through 04_08 Hz band\n",
            "Filtering through 08_12 Hz band\n",
            "Filtering through 12_16 Hz band\n",
            "Filtering through 16_20 Hz band\n",
            "Filtering through 20_24 Hz band\n",
            "Filtering through 24_28 Hz band\n",
            "Filtering through 28_32 Hz band\n",
            "Filtering through 32_36 Hz band\n",
            "Filtering through 36_40 Hz band\n",
            "\n",
            "Processing  subject08\n",
            "Filtering through 04_08 Hz band\n",
            "Filtering through 08_12 Hz band\n",
            "Filtering through 12_16 Hz band\n",
            "Filtering through 16_20 Hz band\n",
            "Filtering through 20_24 Hz band\n",
            "Filtering through 24_28 Hz band\n",
            "Filtering through 28_32 Hz band\n",
            "Filtering through 32_36 Hz band\n",
            "Filtering through 36_40 Hz band\n",
            "\n"
          ]
        }
      ],
      "source": [
        "# Bandpass filtering all subject\n",
        "lowcut=4\n",
        "highcut=40\n",
        "fs = 250\n",
        "\n",
        "# Iterate over all subjects\n",
        "\n",
        "for i in range(1, 9):\n",
        "    if i in [4,5,6,7]:  # Skip subject 4\n",
        "        continue\n",
        "    subj = subject_counter(i)\n",
        "    butter_bandpass_one_subject(mod_data, subj, lowcut, highcut, fs, interval=4)\n",
        "    print('')"
      ]
    },
    {
      "cell_type": "markdown",
      "metadata": {
        "id": "_IcgaVKzTAUr"
      },
      "source": [
        "## Taking EEG data corresponds to left and right class\n",
        "This work will only clasify two class, left and right hand, meanwhile the data contains four class,  \n",
        "thus the goal here is to make band-filtered EEG left and right of each class of shape T x C x N, where  \n",
        "T = trial, C = channel, N = sample"
      ]
    },
    {
      "cell_type": "code",
      "execution_count": null,
      "metadata": {
        "id": "LVsJsHWOTAUr"
      },
      "outputs": [],
      "source": [
        "# First take the position of left and right class\n",
        "left_class_code = 769\n",
        "right_class_code = 770\n",
        "\n",
        "for i in range(1, 9):\n",
        "    if i in [4,5,6,7]:  # Skip subject 4\n",
        "        continue\n",
        "    subj = subject_counter(i)\n",
        "\n",
        "    mod_data[subj]['left_pos'] = ori_data[subj]['epos'][ori_data[subj]['etyp'] == left_class_code]\n",
        "    mod_data[subj]['right_pos'] = ori_data[subj]['epos'][ori_data[subj]['etyp'] == right_class_code]"
      ]
    },
    {
      "cell_type": "code",
      "execution_count": null,
      "metadata": {
        "colab": {
          "base_uri": "https://localhost:8080/"
        },
        "id": "ueiIbo0mTAUr",
        "outputId": "93f46e5d-8862-410e-e516-e996425b9ce8"
      },
      "outputs": [
        {
          "output_type": "stream",
          "name": "stdout",
          "text": [
            "Processing  subject01\n",
            "Processing  subject02\n",
            "Processing  subject03\n",
            "Processing  subject08\n"
          ]
        }
      ],
      "source": [
        "# Now take EEG data within [0.5 3.5] seconds after cue onset position of each class\n",
        "start = 0.5\n",
        "end = 3.5\n",
        "\n",
        "# Please modify this range to add more subject\n",
        "\n",
        "for i in range(1, 9):\n",
        "    if i in [4,5,6,7]:  # Skip subject 4\n",
        "        continue\n",
        "    subj = subject_counter(i)\n",
        "    print('Processing ', subj)\n",
        "    # Temporary variable of left and right pos\n",
        "    temp_pos_left = mod_data[subj]['left_pos']\n",
        "    temp_pos_right = mod_data[subj]['right_pos']\n",
        "\n",
        "    for band in mod_data[subj]['EEG_filtered'].keys():\n",
        "        temp_EEG_all = mod_data[subj]['EEG_filtered'][band]['EEG_all']\n",
        "        temp_EEG_left = []\n",
        "        temp_EEG_right = []\n",
        "\n",
        "        # LEFT\n",
        "        for j in range(len(temp_pos_left)):\n",
        "            temp_EEG_left.append(temp_EEG_all[:, temp_pos_left[j] + int(start*fs) : temp_pos_left[j] + int(end*fs)])\n",
        "        mod_data[subj]['EEG_filtered'][band]['EEG_left'] = np.array(temp_EEG_left)\n",
        "\n",
        "        # RIGHT\n",
        "        for j in range(len(temp_pos_right)):\n",
        "            temp_EEG_right.append(temp_EEG_all[:, temp_pos_right[j] + int(start*fs) : temp_pos_right[j] + int(end*fs)])\n",
        "        mod_data[subj]['EEG_filtered'][band]['EEG_right'] = np.array(temp_EEG_right)"
      ]
    },
    {
      "cell_type": "markdown",
      "metadata": {
        "id": "Yk1meEm6TAUr"
      },
      "source": [
        "# Train/Test Data Split"
      ]
    },
    {
      "cell_type": "code",
      "execution_count": null,
      "metadata": {
        "id": "Wp5QbDObTAUr"
      },
      "outputs": [],
      "source": [
        "def split_EEG_one_class(EEG_one_class, percent_train=0.8):\n",
        "    '''\n",
        "    split_EEG_one_class will receive EEG data of one class, with size of T x N x M, where\n",
        "    T = number of trial\n",
        "    N = number of electrodes\n",
        "    M = sample number\n",
        "\n",
        "    INPUT:\n",
        "    EEG_data_one_class: the data of one class of EEG data\n",
        "\n",
        "    percent_train: allocation percentage of training data, default is 0.8\n",
        "\n",
        "    OUTPUT:\n",
        "    EEG_train: EEG data for training\n",
        "\n",
        "    EEG_test: EEG data for test\n",
        "\n",
        "    Both have type of np.arrray dimension of T x M x N\n",
        "    '''\n",
        "\n",
        "    # Number of all trials\n",
        "    n = EEG_one_class.shape[0]\n",
        "\n",
        "    n_tr = round(n*percent_train)\n",
        "    n_te = n - n_tr\n",
        "\n",
        "    EEG_train = EEG_one_class[:n_tr]\n",
        "    EEG_test = EEG_one_class[n_tr:n_tr+n_te]\n",
        "\n",
        "    return EEG_train, EEG_test"
      ]
    },
    {
      "cell_type": "code",
      "execution_count": null,
      "metadata": {
        "colab": {
          "base_uri": "https://localhost:8080/"
        },
        "collapsed": true,
        "id": "KBqZ4kyNTAUs",
        "outputId": "f0026eae-12b9-4430-9873-cd461dde4afb"
      },
      "outputs": [
        {
          "output_type": "stream",
          "name": "stdout",
          "text": [
            "72\n",
            "72\n",
            "7\n",
            "7\n",
            "72\n",
            "72\n",
            "7\n",
            "7\n",
            "72\n",
            "72\n",
            "7\n",
            "7\n",
            "72\n",
            "72\n",
            "7\n",
            "7\n",
            "72\n",
            "72\n",
            "7\n",
            "7\n",
            "72\n",
            "72\n",
            "7\n",
            "7\n",
            "72\n",
            "72\n",
            "7\n",
            "7\n",
            "72\n",
            "72\n",
            "7\n",
            "7\n",
            "72\n",
            "72\n",
            "7\n",
            "7\n",
            "72\n",
            "72\n",
            "7\n",
            "7\n",
            "72\n",
            "72\n",
            "7\n",
            "7\n",
            "72\n",
            "72\n",
            "7\n",
            "7\n",
            "72\n",
            "72\n",
            "7\n",
            "7\n",
            "72\n",
            "72\n",
            "7\n",
            "7\n",
            "72\n",
            "72\n",
            "7\n",
            "7\n",
            "72\n",
            "72\n",
            "7\n",
            "7\n",
            "72\n",
            "72\n",
            "7\n",
            "7\n",
            "72\n",
            "72\n",
            "7\n",
            "7\n",
            "72\n",
            "72\n",
            "7\n",
            "7\n",
            "72\n",
            "72\n",
            "7\n",
            "7\n",
            "72\n",
            "72\n",
            "7\n",
            "7\n",
            "72\n",
            "72\n",
            "7\n",
            "7\n",
            "72\n",
            "72\n",
            "7\n",
            "7\n",
            "72\n",
            "72\n",
            "7\n",
            "7\n",
            "72\n",
            "72\n",
            "7\n",
            "7\n",
            "72\n",
            "72\n",
            "7\n",
            "7\n",
            "72\n",
            "72\n",
            "7\n",
            "7\n",
            "72\n",
            "72\n",
            "7\n",
            "7\n",
            "72\n",
            "72\n",
            "7\n",
            "7\n",
            "72\n",
            "72\n",
            "7\n",
            "7\n",
            "72\n",
            "72\n",
            "7\n",
            "7\n",
            "72\n",
            "72\n",
            "7\n",
            "7\n",
            "72\n",
            "72\n",
            "7\n",
            "7\n",
            "72\n",
            "72\n",
            "7\n",
            "7\n",
            "72\n",
            "72\n",
            "7\n",
            "7\n",
            "72\n",
            "72\n",
            "7\n",
            "7\n"
          ]
        }
      ],
      "source": [
        "# Iterate over all subjects\n",
        "\n",
        "for i in range(1, 9):\n",
        "    if i in [4,5,6,7]:  # Skip subject 4\n",
        "        continue\n",
        "    subj = subject_counter(i)\n",
        "\n",
        "    # Iterate over all bands\n",
        "    for band in mod_data[subj]['EEG_filtered'].keys():\n",
        "\n",
        "        # Temporary variable for left and right class of each band\n",
        "        temp_EEG_left = mod_data[subj]['EEG_filtered'][band]['EEG_left']\n",
        "        temp_EEG_right = mod_data[subj]['EEG_filtered'][band]['EEG_right']\n",
        "        print(len(temp_EEG_left))\n",
        "        print(len(temp_EEG_right))\n",
        "\n",
        "        # Temporary variable to access each band\n",
        "        temp_filt = mod_data[subj]['EEG_filtered'][band]\n",
        "\n",
        "        temp_filt['EEG_left_train'], temp_filt['EEG_left_test'] = split_EEG_one_class(temp_EEG_left, 0.8)\n",
        "        temp_filt['EEG_right_train'], temp_filt['EEG_right_test'] = split_EEG_one_class(temp_EEG_right, 0.8)\n",
        "        print(len(temp_filt))\n",
        "        print(len(temp_filt))"
      ]
    },
    {
      "cell_type": "code",
      "execution_count": null,
      "metadata": {
        "colab": {
          "base_uri": "https://localhost:8080/"
        },
        "id": "ut8u88noTAUs",
        "outputId": "ed542e5f-c223-448f-89a5-bea03f5b583c"
      },
      "outputs": [
        {
          "output_type": "execute_result",
          "data": {
            "text/plain": [
              "dict_keys(['EEG_all', 'EEG_left', 'EEG_right', 'EEG_left_train', 'EEG_left_test', 'EEG_right_train', 'EEG_right_test'])"
            ]
          },
          "metadata": {},
          "execution_count": 29
        }
      ],
      "source": [
        "mod_data['subject01']['EEG_filtered']['04_08'].keys()"
      ]
    },
    {
      "cell_type": "code",
      "execution_count": null,
      "metadata": {
        "colab": {
          "base_uri": "https://localhost:8080/"
        },
        "id": "6DsFJxh0LRuW",
        "outputId": "bdc550a4-b590-4eb0-d4d2-54d25f5e5414"
      },
      "outputs": [
        {
          "output_type": "stream",
          "name": "stdout",
          "text": [
            "subject08\n"
          ]
        }
      ],
      "source": [
        "print(subj)"
      ]
    },
    {
      "cell_type": "code",
      "execution_count": null,
      "metadata": {
        "id": "NURXyDtWW3bp"
      },
      "outputs": [],
      "source": [
        "\n",
        "X_train = np.concatenate((mod_data[subj]['EEG_filtered'][band]['EEG_left_train'],\n",
        "                         mod_data[subj]['EEG_filtered'][band]['EEG_right_train']), axis=0)\n",
        "y_train = np.concatenate((np.zeros(mod_data[subj]['EEG_filtered'][band]['EEG_left_train'].shape[0]),\n",
        "                         np.ones(mod_data[subj]['EEG_filtered'][band]['EEG_right_train'].shape[0])), axis=0)\n",
        "\n",
        "# Do the same for test data\n",
        "X_test=np.concatenate((mod_data[subj]['EEG_filtered'][band]['EEG_left_test'],\n",
        "                       mod_data[subj]['EEG_filtered'][band]['EEG_right_test']), axis=0)\n",
        "Y_test=np.concatenate((np.zeros(mod_data[subj]['EEG_filtered'][band]['EEG_left_test'].shape[0]),\n",
        "                       np.ones(mod_data[subj]['EEG_filtered'][band]['EEG_right_test'].shape[0])), axis=0)"
      ]
    },
    {
      "cell_type": "code",
      "execution_count": null,
      "metadata": {
        "id": "pKIHcSBRbTph"
      },
      "outputs": [],
      "source": []
    },
    {
      "cell_type": "code",
      "execution_count": null,
      "metadata": {
        "id": "AFuU1VRqZ0fX"
      },
      "outputs": [],
      "source": [
        "import torch\n",
        "import numpy as np\n",
        "\n",
        "# Convert data to PyTorch tensors\n",
        "X_train_tensor = torch.tensor(X_train, dtype=torch.float32)\n",
        "y_train_tensor = torch.tensor(y_train, dtype=torch.long)\n",
        "X_test_tensor = torch.tensor(X_test, dtype=torch.float32)\n",
        "y_test_tensor = torch.tensor(Y_test, dtype=torch.long)\n"
      ]
    },
    {
      "cell_type": "code",
      "execution_count": null,
      "metadata": {
        "id": "lxC8DIvVSjos"
      },
      "outputs": [],
      "source": [
        "X_train_list, X_test_list, y_train_list, y_test_list = [], [], [], []\n",
        "\n",
        "\n",
        "for i in range(1, 9):\n",
        "    if i in [4,5,6,7]:  # Skip subject 4\n",
        "        continue\n",
        "    subj = subject_counter(i)\n",
        "    for band in mod_data[subj]['EEG_filtered'].keys():\n",
        "        # process as currently done\n",
        "        X_train_list.append(np.concatenate((mod_data[subj]['EEG_filtered'][band]['EEG_left_train'],\n",
        "                                            mod_data[subj]['EEG_filtered'][band]['EEG_right_train']), axis=0))\n",
        "        y_train_list.append(np.concatenate((np.zeros(mod_data[subj]['EEG_filtered'][band]['EEG_left_train'].shape[0]),\n",
        "                                            np.ones(mod_data[subj]['EEG_filtered'][band]['EEG_right_train'].shape[0])), axis=0))\n",
        "        X_test_list.append(np.concatenate((mod_data[subj]['EEG_filtered'][band]['EEG_left_test'],\n",
        "                                           mod_data[subj]['EEG_filtered'][band]['EEG_right_test']), axis=0))\n",
        "        y_test_list.append(np.concatenate((np.zeros(mod_data[subj]['EEG_filtered'][band]['EEG_left_test'].shape[0]),\n",
        "                                           np.ones(mod_data[subj]['EEG_filtered'][band]['EEG_right_test'].shape[0])), axis=0))\n",
        "\n",
        "# Finally, concatenate all list elements into single arrays\n",
        "X_train = np.concatenate(X_train_list, axis=0)\n",
        "y_train = np.concatenate(y_train_list, axis=0)\n",
        "X_test = np.concatenate(X_test_list, axis=0)\n",
        "Y_test = np.concatenate(y_test_list, axis=0)\n"
      ]
    },
    {
      "cell_type": "code",
      "execution_count": null,
      "metadata": {
        "id": "b9xJYahkZ_zl"
      },
      "outputs": [],
      "source": [
        "import torch\n",
        "import torch.nn as nn\n",
        "\n",
        "class SimpleRNN(nn.Module):\n",
        "    def __init__(self, input_size, hidden_size, num_layers, num_classes):\n",
        "        super(SimpleRNN, self).__init__()\n",
        "        self.hidden_size = hidden_size\n",
        "        self.num_layers = num_layers\n",
        "        self.rnn = nn.RNN(input_size, hidden_size, num_layers, batch_first=True)\n",
        "        self.dropout = nn.Dropout(p=0.5)\n",
        "        self.fc = nn.Linear(hidden_size, num_classes)\n",
        "        self.batch_norm = nn.BatchNorm1d(hidden_size)\n",
        "\n",
        "    def forward(self, x):\n",
        "        # Initialize the hidden state\n",
        "        h0 = torch.zeros(self.num_layers, x.size(0), self.hidden_size).to(x.device)\n",
        "\n",
        "        # Forward propagate RNN\n",
        "        out, _ = self.rnn(x, h0)\n",
        "\n",
        "        # Apply batch normalization\n",
        "        out = self.batch_norm(out[:, -1, :])\n",
        "\n",
        "        # Apply dropout\n",
        "        out = self.dropout(out)\n",
        "\n",
        "        # Decode the hidden state of the last time step\n",
        "        out = self.fc(out)\n",
        "        return out\n"
      ]
    },
    {
      "cell_type": "code",
      "execution_count": null,
      "metadata": {
        "id": "OVF5LI-sZ2Ov"
      },
      "outputs": [],
      "source": [
        "from torch.utils.data import Dataset, DataLoader\n",
        "\n",
        "class EEGDataset(Dataset):\n",
        "    def __init__(self, X, y):\n",
        "        self.X = X\n",
        "        self.y = y\n",
        "\n",
        "    def __len__(self):\n",
        "        return len(self.X)\n",
        "\n",
        "    def __getitem__(self, idx):\n",
        "        return self.X[idx], self.y[idx]\n",
        "\n",
        "# Create dataset and dataloader\n",
        "train_dataset = EEGDataset(X_train_tensor, y_train_tensor)\n",
        "train_loader = DataLoader(train_dataset, batch_size=32, shuffle=True)\n",
        "test_dataset = EEGDataset(X_test_tensor, y_test_tensor)\n",
        "test_loader = DataLoader(test_dataset, batch_size=32, shuffle=False)"
      ]
    },
    {
      "cell_type": "code",
      "execution_count": null,
      "metadata": {
        "id": "U89zAi6Ib_ut"
      },
      "outputs": [],
      "source": [
        "def evaluate_model(model, test_loader):\n",
        "    model.eval()\n",
        "    test_running_corrects = 0\n",
        "    test_total_samples = 0\n",
        "    with torch.no_grad():\n",
        "        for inputs, labels in test_loader:\n",
        "            outputs = model(inputs.to(device))\n",
        "            test_running_corrects += (outputs.argmax(1) == labels.to(device)).sum().item()\n",
        "            test_total_samples += labels.size(0)\n",
        "\n",
        "    test_acc = test_running_corrects / test_total_samples\n",
        "    return test_acc"
      ]
    },
    {
      "cell_type": "code",
      "execution_count": null,
      "metadata": {
        "colab": {
          "base_uri": "https://localhost:8080/"
        },
        "id": "GSNzHPanZ8AM",
        "outputId": "08a543d7-bc19-46a9-e50c-cc648f7f9cdf"
      },
      "outputs": [
        {
          "output_type": "stream",
          "name": "stdout",
          "text": [
            "Epoch [1/50], Loss: 0.8106, Accuracy: 0.5690\n",
            "Test Loss: 0.6530, Test Accuracy: 0.6071\n",
            "Epoch [2/50], Loss: 0.6039, Accuracy: 0.6897\n",
            "Test Loss: 0.6844, Test Accuracy: 0.5357\n",
            "Epoch [3/50], Loss: 0.4486, Accuracy: 0.7845\n",
            "Test Loss: 0.8104, Test Accuracy: 0.4643\n",
            "Epoch [4/50], Loss: 0.4065, Accuracy: 0.8103\n",
            "Test Loss: 0.7678, Test Accuracy: 0.5357\n",
            "Epoch [5/50], Loss: 0.2653, Accuracy: 0.8966\n",
            "Test Loss: 0.7922, Test Accuracy: 0.5714\n",
            "Epoch [6/50], Loss: 0.1880, Accuracy: 0.9224\n",
            "Test Loss: 0.9902, Test Accuracy: 0.6429\n",
            "Epoch [7/50], Loss: 0.1079, Accuracy: 0.9741\n",
            "Test Loss: 1.2180, Test Accuracy: 0.6071\n",
            "Epoch [8/50], Loss: 0.0609, Accuracy: 0.9914\n",
            "Test Loss: 1.3824, Test Accuracy: 0.5714\n",
            "Epoch [9/50], Loss: 0.0391, Accuracy: 1.0000\n",
            "Test Loss: 1.6243, Test Accuracy: 0.5714\n",
            "Epoch [10/50], Loss: 0.0428, Accuracy: 1.0000\n",
            "Test Loss: 1.7276, Test Accuracy: 0.6071\n",
            "Epoch [11/50], Loss: 0.0268, Accuracy: 0.9914\n",
            "Test Loss: 1.8104, Test Accuracy: 0.6071\n",
            "Early stopping\n",
            "Final Test Accuracy: 0.6071\n"
          ]
        }
      ],
      "source": [
        "import torch\n",
        "import torch.nn as nn\n",
        "import torch.optim as optim\n",
        "\n",
        "# Hyperparameters\n",
        "input_size = X_train_tensor.shape[2]  # Number of features (channels)\n",
        "hidden_size = 256\n",
        "num_layers = 2\n",
        "num_classes = 2\n",
        "num_epochs = 50  # Set higher and use early stopping\n",
        "learning_rate = 0.001\n",
        "patience = 10  # Early stopping patience\n",
        "\n",
        "# Determine the device to be used (CPU or GPU)\n",
        "device = torch.device(\"cuda\" if torch.cuda.is_available() else \"cpu\")\n",
        "\n",
        "# Model, loss function, and optimizer\n",
        "model = SimpleRNN(input_size, hidden_size, num_layers, num_classes).to(device)\n",
        "criterion = nn.CrossEntropyLoss()\n",
        "optimizer = optim.Adam(model.parameters(), lr=learning_rate, weight_decay=1e-5)  # Add weight decay\n",
        "scheduler = optim.lr_scheduler.ReduceLROnPlateau(optimizer, 'min', patience=5, factor=0.5)\n",
        "\n",
        "# Early stopping parameters\n",
        "best_test_loss = float('inf')\n",
        "early_stopping_counter = 0\n",
        "\n",
        "# Training loop\n",
        "for epoch in range(num_epochs):\n",
        "    model.train()\n",
        "    running_loss = 0.0\n",
        "    running_corrects = 0\n",
        "    total_samples = 0\n",
        "\n",
        "    for i, (inputs, labels) in enumerate(train_loader):\n",
        "        inputs, labels = inputs.to(device), labels.to(device)\n",
        "\n",
        "        # Forward pass\n",
        "        outputs = model(inputs)\n",
        "        loss = criterion(outputs, labels)\n",
        "\n",
        "        # Backward pass and optimization\n",
        "        optimizer.zero_grad()\n",
        "        loss.backward()\n",
        "        optimizer.step()\n",
        "\n",
        "        # Calculate loss and accuracy\n",
        "        running_loss += loss.item() * inputs.size(0)\n",
        "        running_corrects += (outputs.argmax(1) == labels).sum().item()\n",
        "        total_samples += labels.size(0)\n",
        "\n",
        "    epoch_loss = running_loss / total_samples\n",
        "    epoch_acc = running_corrects / total_samples\n",
        "\n",
        "    print(f'Epoch [{epoch+1}/{num_epochs}], Loss: {epoch_loss:.4f}, Accuracy: {epoch_acc:.4f}')\n",
        "\n",
        "    # Test loop for early stopping\n",
        "    model.eval()\n",
        "    test_loss = 0.0\n",
        "    test_corrects = 0\n",
        "    test_samples = 0\n",
        "    with torch.no_grad():\n",
        "        for inputs, labels in test_loader:\n",
        "            inputs, labels = inputs.to(device), labels.to(device)\n",
        "            outputs = model(inputs)\n",
        "            loss = criterion(outputs, labels)\n",
        "            test_loss += loss.item() * inputs.size(0)\n",
        "            test_corrects += (outputs.argmax(1) == labels).sum().item()\n",
        "            test_samples += labels.size(0)\n",
        "\n",
        "    test_loss /= test_samples\n",
        "    test_acc = test_corrects / test_samples\n",
        "    print(f'Test Loss: {test_loss:.4f}, Test Accuracy: {test_acc:.4f}')\n",
        "\n",
        "    # Scheduler step\n",
        "    scheduler.step(test_loss)\n",
        "\n",
        "    # Early stopping check\n",
        "    if test_loss < best_test_loss:\n",
        "        best_test_loss = test_loss\n",
        "        early_stopping_counter = 0\n",
        "        torch.save(model.state_dict(), 'best_model.pt')\n",
        "    else:\n",
        "        early_stopping_counter += 1\n",
        "        if early_stopping_counter >= patience:\n",
        "            print(\"Early stopping\")\n",
        "            break\n",
        "\n",
        "# Final evaluation using the test loader\n",
        "best_model = SimpleRNN(input_size, hidden_size, num_layers, num_classes).to(device)\n",
        "best_model.load_state_dict(torch.load('best_model.pt'))\n",
        "test_accuracy = evaluate_model(best_model, test_loader)\n",
        "print(f'Final Test Accuracy: {test_accuracy:.4f}')\n"
      ]
    },
    {
      "cell_type": "code",
      "execution_count": null,
      "metadata": {
        "id": "GusgT9isl9IC"
      },
      "outputs": [],
      "source": [
        "# import torch\n",
        "# import torch.nn as nn\n",
        "# import torch.optim as optim\n",
        "# import itertools\n",
        "# from sklearn.model_selection import train_test_split\n",
        "# from torch.utils.data import DataLoader, TensorDataset\n",
        "# import numpy as np\n",
        "\n",
        "# # Hyperparameter grid\n",
        "# input_size = X_train_tensor.shape[2]  # Number of features (channels)\n",
        "# hidden_sizes = [64, 128, 256, 512]\n",
        "# num_layers_list = [1, 2, 3]\n",
        "# learning_rates = [0.0001, 0.001, 0.01]\n",
        "# weight_decays = [1e-3, 1e-4, 1e-5, 1e-6]\n",
        "# num_epochs = 15\n",
        "# num_seeds = 50  # Number of different seeds to use for averaging\n",
        "# patience = 5  # Early stopping patience\n",
        "# improvement_threshold = 0.001  # Minimum improvement to be considered as significant\n",
        "\n",
        "# # Split data into training and validation sets\n",
        "# X_train, X_val, y_train, y_val = train_test_split(X_train_tensor, y_train_tensor, test_size=0.2, random_state=42)\n",
        "# train_dataset = TensorDataset(X_train, y_train)\n",
        "# val_dataset = TensorDataset(X_val, y_val)\n",
        "\n",
        "# best_acc = 0.0\n",
        "# best_params = {}\n",
        "# best_seed_accuracies = []\n",
        "\n",
        "# worst_acc = float('inf')\n",
        "# worst_params = {}\n",
        "# worst_seed_accuracies = []\n",
        "\n",
        "# # Function to set seed for reproducibility\n",
        "# def set_seed(seed):\n",
        "#     torch.manual_seed(seed)\n",
        "#     torch.cuda.manual_seed_all(seed)\n",
        "#     np.random.seed(seed)\n",
        "#     torch.backends.cudnn.deterministic = True\n",
        "#     torch.backends.cudnn.benchmark = False\n",
        "\n",
        "# # Function to evaluate the model\n",
        "# def evaluate_model(model, data_loader, criterion, device):\n",
        "#     model.eval()\n",
        "#     total_loss = 0.0\n",
        "#     corrects = 0\n",
        "#     total_samples = 0\n",
        "#     with torch.no_grad():\n",
        "#         for inputs, labels in data_loader:\n",
        "#             inputs, labels = inputs.to(device), labels.to(device)\n",
        "#             outputs = model(inputs)\n",
        "#             loss = criterion(outputs, labels)\n",
        "#             total_loss += loss.item() * inputs.size(0)\n",
        "#             corrects += (outputs.argmax(1) == labels).sum().item()\n",
        "#             total_samples += labels.size(0)\n",
        "#     avg_loss = total_loss / total_samples\n",
        "#     avg_acc = corrects / total_samples\n",
        "#     return avg_loss, avg_acc\n",
        "\n",
        "# # Device configuration\n",
        "# device = torch.device(\"cuda\" if torch.cuda.is_available() else \"cpu\")\n",
        "\n",
        "# # Grid Search\n",
        "# for hidden_size, num_layers, learning_rate, weight_decay in itertools.product(hidden_sizes, num_layers_list, learning_rates, weight_decays):\n",
        "#     seed_accuracies = []\n",
        "\n",
        "#     for seed in range(num_seeds):\n",
        "#         set_seed(seed)\n",
        "#         train_loader = DataLoader(train_dataset, batch_size=32, shuffle=True)\n",
        "#         val_loader = DataLoader(val_dataset, batch_size=32, shuffle=False)\n",
        "\n",
        "#         model = SimpleRNN(input_size, hidden_size, num_layers, num_classes).to(device)\n",
        "#         criterion = nn.CrossEntropyLoss()\n",
        "#         optimizer = optim.Adam(model.parameters(), lr=learning_rate, weight_decay=weight_decay)\n",
        "#         scheduler = optim.lr_scheduler.ReduceLROnPlateau(optimizer, 'min', patience=patience, factor=0.5)\n",
        "\n",
        "#         best_val_loss = float('inf')\n",
        "#         early_stopping_counter = 0\n",
        "\n",
        "#         for epoch in range(num_epochs):\n",
        "#             model.train()\n",
        "#             running_loss = 0.0\n",
        "#             running_corrects = 0\n",
        "#             total_samples = 0\n",
        "\n",
        "#             for inputs, labels in train_loader:\n",
        "#                 inputs, labels = inputs.to(device), labels.to(device)\n",
        "\n",
        "#                 # Forward pass\n",
        "#                 outputs = model(inputs)\n",
        "#                 loss = criterion(outputs, labels)\n",
        "\n",
        "#                 # Backward pass and optimization\n",
        "#                 optimizer.zero_grad()\n",
        "#                 loss.backward()\n",
        "#                 optimizer.step()\n",
        "\n",
        "#                 # Calculate loss and accuracy\n",
        "#                 running_loss += loss.item() * inputs.size(0)\n",
        "#                 running_corrects += (outputs.argmax(1) == labels).sum().item()\n",
        "#                 total_samples += labels.size(0)\n",
        "\n",
        "#             epoch_loss = running_loss / total_samples\n",
        "#             epoch_acc = running_corrects / total_samples\n",
        "\n",
        "#             # Validation loop for early stopping\n",
        "#             val_loss, val_acc = evaluate_model(model, val_loader, criterion, device)\n",
        "#             print(f'Epoch [{epoch+1}/{num_epochs}], Loss: {epoch_loss:.4f}, Accuracy: {epoch_acc:.4f}, Val Loss: {val_loss:.4f}, Val Accuracy: {val_acc:.4f}')\n",
        "\n",
        "#             # Scheduler step\n",
        "#             scheduler.step(val_loss)\n",
        "\n",
        "#             # Early stopping check\n",
        "#             if val_loss < best_val_loss - improvement_threshold:\n",
        "#                 best_val_loss = val_loss\n",
        "#                 early_stopping_counter = 0\n",
        "#                 torch.save(model.state_dict(), 'best_model.pt')\n",
        "#             else:\n",
        "#                 early_stopping_counter += 1\n",
        "#                 if early_stopping_counter >= patience:\n",
        "#                     print(\"Early stopping\")\n",
        "#                     break\n",
        "\n",
        "#         # Load the best model for evaluation\n",
        "#         best_model = SimpleRNN(input_size, hidden_size, num_layers, num_classes).to(device)\n",
        "#         best_model.load_state_dict(torch.load('best_model.pt'))\n",
        "#         val_loss, val_acc = evaluate_model(best_model, val_loader, criterion, device)\n",
        "#         seed_accuracies.append(val_acc)\n",
        "\n",
        "#     avg_val_acc = np.mean(seed_accuracies)\n",
        "#     var_val_acc = np.var(seed_accuracies)\n",
        "\n",
        "#     if avg_val_acc > best_acc:\n",
        "#         best_acc = avg_val_acc\n",
        "#         best_params = {\n",
        "#             'hidden_size': hidden_size,\n",
        "#             'num_layers': num_layers,\n",
        "#             'learning_rate': learning_rate,\n",
        "#             'weight_decay': weight_decay\n",
        "#         }\n",
        "#         best_seed_accuracies = seed_accuracies.copy()\n",
        "\n",
        "#     if avg_val_acc < worst_acc:\n",
        "#         worst_acc = avg_val_acc\n",
        "#         worst_params = {\n",
        "#             'hidden_size': hidden_size,\n",
        "#             'num_layers': num_layers,\n",
        "#             'learning_rate': learning_rate,\n",
        "#             'weight_decay': weight_decay\n",
        "#         }\n",
        "#         worst_seed_accuracies = seed_accuracies.copy()\n",
        "\n",
        "#     print(f'Params: hidden_size={hidden_size}, num_layers={num_layers}, learning_rate={learning_rate}, Avg Val Accuracy: {avg_val_acc:.4f}, Var Val Accuracy: {var_val_acc:.4f}')\n",
        "\n",
        "# # Calculate mean and variance for best and worst params\n",
        "# best_mean_acc = np.mean(best_seed_accuracies)\n",
        "# best_var_acc = np.var(best_seed_accuracies)\n",
        "# worst_mean_acc = np.mean(worst_seed_accuracies)\n",
        "# worst_var_acc = np.var(worst_seed_accuracies)\n",
        "\n",
        "# print(f'Best params: {best_params}, Best average validation accuracy: {best_acc:.4f}, Mean Accuracy: {best_mean_acc:.4f}, Variance: {best_var_acc:.4f}')\n",
        "# print(f'Worst params: {worst_params}, Worst average validation accuracy: {worst_acc:.4f}, Mean Accuracy: {worst_mean_acc:.4f}, Variance: {worst_var_acc:.4f}')\n"
      ]
    },
    {
      "cell_type": "code",
      "execution_count": null,
      "metadata": {
        "colab": {
          "base_uri": "https://localhost:8080/"
        },
        "id": "VFMy8fQdmjOO",
        "outputId": "a247a7b6-446d-4426-d436-7c6168550e51"
      },
      "outputs": [
        {
          "output_type": "stream",
          "name": "stdout",
          "text": [
            "Epoch [1/50], Loss: 0.9229, Accuracy: 0.5431\n",
            "Test Loss: 0.6806, Test Accuracy: 0.5714\n",
            "Epoch [2/50], Loss: 0.8296, Accuracy: 0.5862\n",
            "Test Loss: 0.6859, Test Accuracy: 0.5000\n",
            "Epoch [3/50], Loss: 0.5391, Accuracy: 0.7241\n",
            "Test Loss: 0.6666, Test Accuracy: 0.6071\n",
            "Epoch [4/50], Loss: 0.5192, Accuracy: 0.7586\n",
            "Test Loss: 0.7021, Test Accuracy: 0.6786\n",
            "Epoch [5/50], Loss: 0.3171, Accuracy: 0.8966\n",
            "Test Loss: 0.7388, Test Accuracy: 0.6429\n",
            "Epoch [6/50], Loss: 0.2576, Accuracy: 0.9052\n",
            "Test Loss: 0.9116, Test Accuracy: 0.6786\n",
            "Epoch [7/50], Loss: 0.1352, Accuracy: 0.9569\n",
            "Test Loss: 1.2264, Test Accuracy: 0.6071\n",
            "Epoch [8/50], Loss: 0.0959, Accuracy: 0.9569\n",
            "Test Loss: 1.5894, Test Accuracy: 0.5357\n",
            "Early stopping\n",
            "Final Test Accuracy: 0.6071\n"
          ]
        }
      ],
      "source": [
        "import torch\n",
        "import torch.nn as nn\n",
        "import torch.optim as optim\n",
        "def evaluate_model(model, test_loader):\n",
        "    model.eval()\n",
        "    test_running_corrects = 0\n",
        "    test_total_samples = 0\n",
        "    with torch.no_grad():\n",
        "        for inputs, labels in test_loader:\n",
        "            outputs = model(inputs.to(device))\n",
        "            test_running_corrects += (outputs.argmax(1) == labels.to(device)).sum().item()\n",
        "            test_total_samples += labels.size(0)\n",
        "\n",
        "    test_acc = test_running_corrects / test_total_samples\n",
        "    return test_acc\n",
        "# Hyperparameters\n",
        "input_size = X_train_tensor.shape[2]  # Number of features (channels)\n",
        "hidden_size = 256\n",
        "num_layers = 3\n",
        "num_classes = 2\n",
        "num_epochs = 50  # Set higher and use early stopping\n",
        "learning_rate = 0.001\n",
        "patience = 5  # Early stopping patience\n",
        "\n",
        "# Determine the device to be used (CPU or GPU)\n",
        "device = torch.device(\"cuda\" if torch.cuda.is_available() else \"cpu\")\n",
        "\n",
        "# Model, loss function, and optimizer\n",
        "model = SimpleRNN(input_size, hidden_size, num_layers, num_classes).to(device)\n",
        "criterion = nn.CrossEntropyLoss()\n",
        "optimizer = optim.Adam(model.parameters(), lr=learning_rate, weight_decay=1e-5)  # Add weight decay\n",
        "scheduler = optim.lr_scheduler.ReduceLROnPlateau(optimizer, 'min', patience=5, factor=0.5)\n",
        "\n",
        "# Early stopping parameters\n",
        "best_test_loss = float('inf')\n",
        "early_stopping_counter = 0\n",
        "\n",
        "# Training loop\n",
        "for epoch in range(num_epochs):\n",
        "    model.train()\n",
        "    running_loss = 0.0\n",
        "    running_corrects = 0\n",
        "    total_samples = 0\n",
        "\n",
        "    for i, (inputs, labels) in enumerate(train_loader):\n",
        "        inputs, labels = inputs.to(device), labels.to(device)\n",
        "\n",
        "        # Forward pass\n",
        "        outputs = model(inputs)\n",
        "        loss = criterion(outputs, labels)\n",
        "\n",
        "        # Backward pass and optimization\n",
        "        optimizer.zero_grad()\n",
        "        loss.backward()\n",
        "        optimizer.step()\n",
        "\n",
        "        # Calculate loss and accuracy\n",
        "        running_loss += loss.item() * inputs.size(0)\n",
        "        running_corrects += (outputs.argmax(1) == labels).sum().item()\n",
        "        total_samples += labels.size(0)\n",
        "\n",
        "    epoch_loss = running_loss / total_samples\n",
        "    epoch_acc = running_corrects / total_samples\n",
        "\n",
        "    print(f'Epoch [{epoch+1}/{num_epochs}], Loss: {epoch_loss:.4f}, Accuracy: {epoch_acc:.4f}')\n",
        "\n",
        "    # Test loop for early stopping\n",
        "    model.eval()\n",
        "    test_loss = 0.0\n",
        "    test_corrects = 0\n",
        "    test_samples = 0\n",
        "    with torch.no_grad():\n",
        "        for inputs, labels in test_loader:\n",
        "            inputs, labels = inputs.to(device), labels.to(device)\n",
        "            outputs = model(inputs)\n",
        "            loss = criterion(outputs, labels)\n",
        "            test_loss += loss.item() * inputs.size(0)\n",
        "            test_corrects += (outputs.argmax(1) == labels).sum().item()\n",
        "            test_samples += labels.size(0)\n",
        "\n",
        "    test_loss /= test_samples\n",
        "    test_acc = test_corrects / test_samples\n",
        "    print(f'Test Loss: {test_loss:.4f}, Test Accuracy: {test_acc:.4f}')\n",
        "\n",
        "    # Scheduler step\n",
        "    scheduler.step(test_loss)\n",
        "\n",
        "    # Early stopping check\n",
        "    if test_loss < best_test_loss:\n",
        "        best_test_loss = test_loss\n",
        "        early_stopping_counter = 0\n",
        "        torch.save(model.state_dict(), 'best_model.pt')\n",
        "    else:\n",
        "        early_stopping_counter += 1\n",
        "        if early_stopping_counter >= patience:\n",
        "            print(\"Early stopping\")\n",
        "            break\n",
        "\n",
        "# Final evaluation using the test loader\n",
        "best_model = SimpleRNN(input_size, hidden_size, num_layers, num_classes).to(device)\n",
        "best_model.load_state_dict(torch.load('best_model.pt'))\n",
        "test_accuracy = evaluate_model(best_model, test_loader)\n",
        "print(f'Final Test Accuracy: {test_accuracy:.4f}')\n"
      ]
    },
    {
      "cell_type": "code",
      "execution_count": null,
      "metadata": {
        "id": "u05669zcPbYR"
      },
      "outputs": [],
      "source": [
        "X_train_list, X_test_list, y_train_list, y_test_list = [], [], [], []\n",
        "\n",
        "\n",
        "for i in range(1, 9):\n",
        "    if i in [4,5,6,7]:  # Skip subject 4\n",
        "        continue\n",
        "    subj = subject_counter(i)\n",
        "    for band in mod_data[subj]['EEG_filtered'].keys():\n",
        "        # process as currently done\n",
        "        X_train_list.append(np.concatenate((mod_data[subj]['EEG_filtered'][band]['EEG_left_train'],\n",
        "                                            mod_data[subj]['EEG_filtered'][band]['EEG_right_train']), axis=0))\n",
        "        y_train_list.append(np.concatenate((np.zeros(mod_data[subj]['EEG_filtered'][band]['EEG_left_train'].shape[0]),\n",
        "                                            np.ones(mod_data[subj]['EEG_filtered'][band]['EEG_right_train'].shape[0])), axis=0))\n",
        "        X_test_list.append(np.concatenate((mod_data[subj]['EEG_filtered'][band]['EEG_left_test'],\n",
        "                                           mod_data[subj]['EEG_filtered'][band]['EEG_right_test']), axis=0))\n",
        "        y_test_list.append(np.concatenate((np.zeros(mod_data[subj]['EEG_filtered'][band]['EEG_left_test'].shape[0]),\n",
        "                                           np.ones(mod_data[subj]['EEG_filtered'][band]['EEG_right_test'].shape[0])), axis=0))\n",
        "\n",
        "# Finally, concatenate all list elements into single arrays\n",
        "X_train = np.concatenate(X_train_list, axis=0)\n",
        "y_train = np.concatenate(y_train_list, axis=0)\n",
        "X_test = np.concatenate(X_test_list, axis=0)\n",
        "Y_test = np.concatenate(y_test_list, axis=0)\n",
        "import torch\n",
        "import numpy as np\n",
        "\n",
        "# Convert data to PyTorch tensors\n",
        "X_train_tensor = torch.tensor(X_train, dtype=torch.float32)\n",
        "y_train_tensor = torch.tensor(y_train, dtype=torch.long)\n",
        "X_test_tensor = torch.tensor(X_test, dtype=torch.float32)\n",
        "y_test_tensor = torch.tensor(Y_test, dtype=torch.long)"
      ]
    },
    {
      "cell_type": "code",
      "execution_count": null,
      "metadata": {
        "id": "99aV-a7GzMo2"
      },
      "outputs": [],
      "source": []
    },
    {
      "cell_type": "code",
      "source": [
        "import torch\n",
        "import torch.nn as nn\n",
        "import torch.optim as optim\n",
        "import numpy as np\n",
        "import matplotlib.pyplot as plt\n",
        "\n",
        "def run_experiments(train_loader, test_loader):\n",
        "\n",
        "    # Hyperparameters\n",
        "    input_size = X_train_tensor.shape[2]  # Number of features (channels)\n",
        "    hidden_size = 256\n",
        "    num_layers = 2\n",
        "    num_classes = 2\n",
        "    num_epochs = 4\n",
        "    learning_rate = 0.001\n",
        "\n",
        "    num_runs = 20\n",
        "    final_test_accuracies = []  # To store the last epoch test accuracies of each run\n",
        "\n",
        "    all_epoch_accuracies = np.zeros((num_epochs,))  # Storing average accuracies per epoch across all runs\n",
        "    all_epoch_losses = np.zeros((num_epochs,))     # Storing average losses per epoch across all runs\n",
        "    all_test_accuracies = np.zeros((num_epochs,))  # Storing average test accuracies per epoch across all runs\n",
        "    all_test_losses = np.zeros((num_epochs,))      # Storing average test losses per epoch across all runs\n",
        "\n",
        "    for run in range(num_runs):\n",
        "\n",
        "        # Model, loss function, and optimizer\n",
        "        model = SimpleRNN(input_size, hidden_size, num_layers, num_classes).to(device)\n",
        "        criterion = nn.CrossEntropyLoss()\n",
        "        optimizer = optim.Adam(model.parameters(), lr=learning_rate)\n",
        "\n",
        "        # Lists to store metrics information\n",
        "        epoch_losses = []\n",
        "        epoch_accuracies = []\n",
        "        test_epoch_losses = []\n",
        "        test_epoch_accuracies = []\n",
        "\n",
        "        # print(f'Run {run + 1}/{num_runs}')\n",
        "\n",
        "        # Training loop with accuracy and loss calculation\n",
        "        for epoch in range(num_epochs):\n",
        "            running_loss = 0.0\n",
        "            running_corrects = 0\n",
        "            total_samples = 0\n",
        "\n",
        "            model.train()\n",
        "\n",
        "            for i, (inputs, labels) in enumerate(train_loader):\n",
        "                inputs, labels = inputs.to(device), labels.to(device)\n",
        "\n",
        "                # Forward pass\n",
        "                outputs = model(inputs)\n",
        "                loss = criterion(outputs, labels)\n",
        "\n",
        "                # Backward pass and optimization\n",
        "                optimizer.zero_grad()\n",
        "                loss.backward()\n",
        "                optimizer.step()\n",
        "\n",
        "                # Calculate loss and accuracy\n",
        "                running_loss += loss.item() * inputs.size(0)\n",
        "                running_corrects += (outputs.argmax(1) == labels).sum().item()\n",
        "                total_samples += labels.size(0)\n",
        "\n",
        "            epoch_loss = running_loss / total_samples\n",
        "            epoch_acc = running_corrects / total_samples\n",
        "\n",
        "            # Store metrics for plotting\n",
        "            epoch_losses.append(epoch_loss)\n",
        "            epoch_accuracies.append(epoch_acc)\n",
        "\n",
        "            # Test the model\n",
        "            model.eval()\n",
        "            test_loss = 0.0\n",
        "            test_corrects = 0\n",
        "            test_samples = 0\n",
        "\n",
        "            with torch.no_grad():\n",
        "                for inputs, labels in test_loader:\n",
        "                    inputs, labels = inputs.to(device), labels.to(device)\n",
        "                    outputs = model(inputs)\n",
        "                    loss = criterion(outputs, labels)\n",
        "                    test_loss += loss.item() * inputs.size(0)\n",
        "                    test_corrects += (outputs.argmax(1) == labels).sum().item()\n",
        "                    test_samples += labels.size(0)\n",
        "\n",
        "            test_epoch_loss = test_loss / test_samples\n",
        "            test_epoch_accuracy = test_corrects / test_samples\n",
        "\n",
        "            test_epoch_losses.append(test_epoch_loss)\n",
        "            test_epoch_accuracies.append(test_epoch_accuracy)\n",
        "\n",
        "        # Store the last epoch test accuracy of each run\n",
        "        final_test_accuracies.append(test_epoch_accuracies[-1])\n",
        "\n",
        "        # Aggregate data across runs\n",
        "        all_epoch_losses += np.array(epoch_losses)\n",
        "        all_epoch_accuracies += np.array(epoch_accuracies)\n",
        "        all_test_losses += np.array(test_epoch_losses)\n",
        "        all_test_accuracies += np.array(test_epoch_accuracies)\n",
        "\n",
        "    # Average the metrics over all runs\n",
        "    all_epoch_losses /= num_runs\n",
        "    all_epoch_accuracies /= num_runs\n",
        "    all_test_losses /= num_runs\n",
        "    all_test_accuracies /= num_runs\n",
        "\n",
        "    # Calculate average and variance of the final epoch test accuracies\n",
        "    average_final_test_accuracy = np.mean(final_test_accuracies)\n",
        "    variance_final_test_accuracy = np.var(final_test_accuracies)\n",
        "\n",
        "    # Plotting training loss\n",
        "    plt.figure(figsize=(10, 5))\n",
        "    plt.plot(range(1, num_epochs + 1), all_epoch_losses, marker='o', color='red')\n",
        "    plt.title('Average Training Loss Per Epoch')\n",
        "    plt.xlabel('Epoch')\n",
        "    plt.ylabel('Loss')\n",
        "    plt.grid(True)\n",
        "    plt.show()\n",
        "\n",
        "    # Plotting training accuracy\n",
        "    plt.figure(figsize=(10, 5))\n",
        "    plt.plot(range(1, num_epochs + 1), all_epoch_accuracies, marker='o', color='blue')\n",
        "    plt.title('Average Training Accuracy Per Epoch')\n",
        "    plt.xlabel('Epoch')\n",
        "    plt.ylabel('Accuracy')\n",
        "    plt.grid(True)\n",
        "    plt.show()\n",
        "\n",
        "    # Plotting test loss\n",
        "    plt.figure(figsize=(10, 5))\n",
        "    plt.plot(range(1, num_epochs + 1), all_test_losses, marker='o', linestyle='--', color='orange')\n",
        "    plt.title('Average Test Loss Per Epoch')\n",
        "    plt.xlabel('Epoch')\n",
        "    plt.ylabel('Loss')\n",
        "    plt.grid(True)\n",
        "    plt.show()\n",
        "\n",
        "    # Plotting test accuracy\n",
        "    plt.figure(figsize=(10, 5))\n",
        "    plt.plot(range(1, num_epochs + 1), all_test_accuracies, marker='o', linestyle='--', color='green')\n",
        "    plt.title('Average Test Accuracy Per Epoch')\n",
        "    plt.xlabel('Epoch')\n",
        "    plt.ylabel('Accuracy')\n",
        "    plt.grid(True)\n",
        "    plt.show()\n",
        "\n",
        "    return average_final_test_accuracy, variance_final_test_accuracy\n",
        "\n",
        "# Call your function with appropriate loaders\n",
        "avg_final_test_accuracy, var_final_test_accuracy = run_experiments(train_loader, test_loader)\n"
      ],
      "metadata": {
        "colab": {
          "base_uri": "https://localhost:8080/",
          "height": 1000
        },
        "id": "M3A3Ua6nYoyE",
        "outputId": "8ce7a36f-cdfc-4ba8-be41-40c1e195e917"
      },
      "execution_count": null,
      "outputs": [
        {
          "output_type": "display_data",
          "data": {
            "text/plain": [
              "<Figure size 1000x500 with 1 Axes>"
            ],
            "image/png": "[encoded data removed]"
          },
          "metadata": {}
        },
        {
          "output_type": "display_data",
          "data": {
            "text/plain": [
              "<Figure size 1000x500 with 1 Axes>"
            ],
            "image/png": "[encoded data removed]"
          },
          "metadata": {}
        },
        {
          "output_type": "display_data",
          "data": {
            "text/plain": [
              "<Figure size 1000x500 with 1 Axes>"
            ],
            "image/png": "[encoded data removed]"
          },
          "metadata": {}
        },
        {
          "output_type": "display_data",
          "data": {
            "text/plain": [
              "<Figure size 1000x500 with 1 Axes>"
            ],
            "image/png": "[encoded data removed]"
          },
          "metadata": {}
        }
      ]
    },
    {
      "cell_type": "code",
      "source": [
        "print(avg_final_test_accuracy, var_final_test_accuracy)"
      ],
      "metadata": {
        "colab": {
          "base_uri": "https://localhost:8080/"
        },
        "id": "Gmun8_IMbz1h",
        "outputId": "4bb1df37-6c40-4320-8ee8-174375c47623"
      },
      "execution_count": null,
      "outputs": [
        {
          "output_type": "stream",
          "name": "stdout",
          "text": [
            "0.5910714285714287 0.004652423469387757\n"
          ]
        }
      ]
    },
    {
      "cell_type": "code",
      "source": [
        "import torch\n",
        "import torch.nn as nn\n",
        "import torch.optim as optim\n",
        "import numpy as np\n",
        "import matplotlib.pyplot as plt\n",
        "\n",
        "def run_experiments(train_loader, test_loader):\n",
        "\n",
        "    # Hyperparameters\n",
        "    input_size = X_train_tensor.shape[2]  # Number of features (channels)\n",
        "    hidden_size = 256\n",
        "    num_layers = 2\n",
        "    num_classes = 2\n",
        "    num_epochs = 4\n",
        "    learning_rate = 0.001\n",
        "\n",
        "    num_runs = 20\n",
        "    final_test_accuracies = []  # To store the last epoch test accuracies of each run\n",
        "\n",
        "    all_epoch_accuracies = np.zeros((num_epochs,))  # Storing average accuracies per epoch across all runs\n",
        "    all_epoch_losses = np.zeros((num_epochs,))     # Storing average losses per epoch across all runs\n",
        "    all_test_accuracies = np.zeros((num_epochs,))  # Storing average test accuracies per epoch across all runs\n",
        "    all_test_losses = np.zeros((num_epochs,))      # Storing average test losses per epoch across all runs\n",
        "\n",
        "    for run in range(num_runs):\n",
        "\n",
        "        # Model, loss function, and optimizer\n",
        "        model = SimpleRNN(input_size, hidden_size, num_layers, num_classes).to(device)\n",
        "        criterion = nn.CrossEntropyLoss()\n",
        "        optimizer = optim.Adam(model.parameters(), lr=learning_rate)\n",
        "\n",
        "        # Lists to store metrics information\n",
        "        epoch_losses = []\n",
        "        epoch_accuracies = []\n",
        "        test_epoch_losses = []\n",
        "        test_epoch_accuracies = []\n",
        "\n",
        "        # print(f'Run {run + 1}/{num_runs}')\n",
        "\n",
        "        # Training loop with accuracy and loss calculation\n",
        "        for epoch in range(num_epochs):\n",
        "            running_loss = 0.0\n",
        "            running_corrects = 0\n",
        "            total_samples = 0\n",
        "\n",
        "            model.train()\n",
        "\n",
        "            for i, (inputs, labels) in enumerate(train_loader):\n",
        "                inputs, labels = inputs.to(device), labels.to(device)\n",
        "\n",
        "                # Forward pass\n",
        "                outputs = model(inputs)\n",
        "                loss = criterion(outputs, labels)\n",
        "\n",
        "                # Backward pass and optimization\n",
        "                optimizer.zero_grad()\n",
        "                loss.backward()\n",
        "                optimizer.step()\n",
        "\n",
        "                # Calculate loss and accuracy\n",
        "                running_loss += loss.item() * inputs.size(0)\n",
        "                running_corrects += (outputs.argmax(1) == labels).sum().item()\n",
        "                total_samples += labels.size(0)\n",
        "\n",
        "            epoch_loss = running_loss / total_samples\n",
        "            epoch_acc = running_corrects / total_samples\n",
        "\n",
        "            # Store metrics for plotting\n",
        "            epoch_losses.append(epoch_loss)\n",
        "            epoch_accuracies.append(epoch_acc)\n",
        "\n",
        "            # Test the model\n",
        "            model.eval()\n",
        "            test_loss = 0.0\n",
        "            test_corrects = 0\n",
        "            test_samples = 0\n",
        "\n",
        "            with torch.no_grad():\n",
        "                for inputs, labels in test_loader:\n",
        "                    inputs, labels = inputs.to(device), labels.to(device)\n",
        "                    outputs = model(inputs)\n",
        "                    loss = criterion(outputs, labels)\n",
        "                    test_loss += loss.item() * inputs.size(0)\n",
        "                    test_corrects += (outputs.argmax(1) == labels).sum().item()\n",
        "                    test_samples += labels.size(0)\n",
        "\n",
        "            test_epoch_loss = test_loss / test_samples\n",
        "            test_epoch_accuracy = test_corrects / test_samples\n",
        "\n",
        "            test_epoch_losses.append(test_epoch_loss)\n",
        "            test_epoch_accuracies.append(test_epoch_accuracy)\n",
        "\n",
        "        # Store the last epoch test accuracy of each run\n",
        "        final_test_accuracies.append(test_epoch_accuracies[-1])\n",
        "\n",
        "        # Aggregate data across runs\n",
        "        all_epoch_losses += np.array(epoch_losses)\n",
        "        all_epoch_accuracies += np.array(epoch_accuracies)\n",
        "        all_test_losses += np.array(test_epoch_losses)\n",
        "        all_test_accuracies += np.array(test_epoch_accuracies)\n",
        "\n",
        "    # Average the metrics over all runs\n",
        "    all_epoch_losses /= num_runs\n",
        "    all_epoch_accuracies /= num_runs\n",
        "    all_test_losses /= num_runs\n",
        "    all_test_accuracies /= num_runs\n",
        "\n",
        "    # Calculate average and variance of the final epoch test accuracies\n",
        "    average_final_test_accuracy = np.mean(final_test_accuracies)\n",
        "    variance_final_test_accuracy = np.var(final_test_accuracies)\n",
        "\n",
        "    return average_final_test_accuracy, variance_final_test_accuracy\n",
        "\n",
        "# Call your function with appropriate loaders\n",
        "# avg_final_test_accuracy, var_final_test_accuracy = run_experiments(train_loader, test_loader)\n"
      ],
      "metadata": {
        "id": "I_MPnJ6qf34o"
      },
      "execution_count": null,
      "outputs": []
    },
    {
      "cell_type": "code",
      "execution_count": null,
      "metadata": {
        "id": "EKQeEeto4BtP"
      },
      "outputs": [],
      "source": [
        "import numpy as np\n",
        "\n",
        "def prepare_data_for_subject(mod_data, subject):\n",
        "    X_train_list, X_test_list, y_train_list, y_test_list = [], [], [], []\n",
        "\n",
        "    for band in mod_data[subject]['EEG_filtered'].keys():\n",
        "        X_train_list.append(np.concatenate((mod_data[subject]['EEG_filtered'][band]['EEG_left_train'],\n",
        "                                            mod_data[subject]['EEG_filtered'][band]['EEG_right_train']), axis=0))\n",
        "        y_train_list.append(np.concatenate((np.zeros(mod_data[subject]['EEG_filtered'][band]['EEG_left_train'].shape[0]),\n",
        "                                            np.ones(mod_data[subject]['EEG_filtered'][band]['EEG_right_train'].shape[0])), axis=0))\n",
        "        X_test_list.append(np.concatenate((mod_data[subject]['EEG_filtered'][band]['EEG_left_test'],\n",
        "                                           mod_data[subject]['EEG_filtered'][band]['EEG_right_test']), axis=0))\n",
        "        y_test_list.append(np.concatenate((np.zeros(mod_data[subject]['EEG_filtered'][band]['EEG_left_test'].shape[0]),\n",
        "                                           np.ones(mod_data[subject]['EEG_filtered'][band]['EEG_right_test'].shape[0])), axis=0))\n",
        "\n",
        "    # Concatenate all list elements into single arrays\n",
        "    X_train = np.concatenate(X_train_list, axis=0)\n",
        "    y_train = np.concatenate(y_train_list, axis=0)\n",
        "    X_test = np.concatenate(X_test_list, axis=0)\n",
        "    Y_test = np.concatenate(y_test_list, axis=0)\n",
        "\n",
        "    return X_train, y_train, X_test, Y_test\n"
      ]
    },
    {
      "cell_type": "code",
      "execution_count": null,
      "metadata": {
        "id": "UiRQWDCA4D-8",
        "colab": {
          "base_uri": "https://localhost:8080/"
        },
        "outputId": "d8a6f1e3-1a34-4818-cc60-39747443e91e"
      },
      "outputs": [
        {
          "output_type": "stream",
          "name": "stdout",
          "text": [
            "subject 1\n",
            "Results for subject 1: Mean Accuracy = 0.5371031746031746, Variance = 0.000614567586293777\n",
            "subject 2\n",
            "Results for subject 2: Mean Accuracy = 0.4992063492063492, Variance = 0.0005001259763164527\n",
            "subject 3\n",
            "Results for subject 3: Mean Accuracy = 0.5057539682539682, Variance = 0.0004747338750314944\n",
            "subject 8\n",
            "Results for subject 8: Mean Accuracy = 0.5059523809523809, Variance = 0.00025116528092718616\n",
            "Overall Mean Accuracy Across Subjects: 0.5120\n",
            "Overall Variance Across Subjects: 0.0002\n"
          ]
        }
      ],
      "source": [
        "import torch\n",
        "from torch.utils.data import DataLoader, TensorDataset\n",
        "\n",
        "subject_results = []\n",
        "\n",
        "\n",
        "for i in range(1, 9):\n",
        "    if i in [4,5,6,7]:  # Skip subject 4\n",
        "        continue\n",
        "    print(\"subject\",i)\n",
        "    subject = subject_counter(i)\n",
        "    X_train, y_train, X_test, Y_test = prepare_data_for_subject(mod_data, subject)\n",
        "\n",
        "    # Convert numpy arrays to tensors\n",
        "    X_train_tensor = torch.tensor(X_train, dtype=torch.float32)\n",
        "    y_train_tensor = torch.tensor(y_train, dtype=torch.long)\n",
        "    X_test_tensor = torch.tensor(X_test, dtype=torch.float32)\n",
        "    y_test_tensor = torch.tensor(Y_test, dtype=torch.long)\n",
        "\n",
        "    # Create dataset and dataloader\n",
        "    train_dataset = TensorDataset(X_train_tensor, y_train_tensor)\n",
        "    train_loader = DataLoader(train_dataset, batch_size=32, shuffle=True)\n",
        "    test_dataset = TensorDataset(X_test_tensor, y_test_tensor)\n",
        "    test_loader = DataLoader(test_dataset, batch_size=32, shuffle=False)\n",
        "\n",
        "    # Run experiments\n",
        "    mean_accuracy, variance_accuracy = run_experiments(train_loader, test_loader)\n",
        "\n",
        "    subject_results.append(mean_accuracy)\n",
        "    print(f'Results for subject {i}: Mean Accuracy = {mean_accuracy}, Variance = {variance_accuracy}')\n",
        "\n",
        "# Calculate and print the mean accuracy and variance across all subjects\n",
        "overall_mean_accuracy = np.mean(subject_results)\n",
        "overall_variance_accuracy = np.var(subject_results)\n",
        "\n",
        "print(f'Overall Mean Accuracy Across Subjects: {overall_mean_accuracy:.4f}')\n",
        "print(f'Overall Variance Across Subjects: {overall_variance_accuracy:.4f}')\n",
        "\n"
      ]
    },
    {
      "cell_type": "code",
      "execution_count": null,
      "metadata": {
        "id": "MMCb0NTM4OC9",
        "colab": {
          "base_uri": "https://localhost:8080/"
        },
        "outputId": "2c113369-3f3a-4a3b-d47a-56527e13ab34"
      },
      "outputs": [
        {
          "output_type": "stream",
          "name": "stdout",
          "text": [
            "Testing self-consistency on subject 5:\n",
            "Testing generalization from subjects 1, 2, 3 to subject 8:\n",
            "Generalization results: (0.5170634920634921, 0.0006221655328798189)\n",
            "Self-consistency results: (0.5057539682539682, 0.0006825947971781309)\n"
          ]
        }
      ],
      "source": [
        "import torch\n",
        "from torch.utils.data import DataLoader, TensorDataset\n",
        "\n",
        "def prepare_combined_data(mod_data, train_subjects, test_subject):\n",
        "    # Combine training data from multiple subjects\n",
        "    X_train, y_train = [], []\n",
        "    for subj in train_subjects:\n",
        "        subject_data = prepare_data_for_subject(mod_data, subject_counter(subj))\n",
        "        X_train.append(subject_data[0])  # X_train data\n",
        "        y_train.append(subject_data[1])  # y_train data\n",
        "\n",
        "    # Flatten lists and concatenate\n",
        "    X_train = np.concatenate(X_train, axis=0)\n",
        "    y_train = np.concatenate(y_train, axis=0)\n",
        "\n",
        "    # Prepare test data for the test subject\n",
        "    X_test, Y_test = prepare_data_for_subject(mod_data, subject_counter(test_subject))[2:]\n",
        "\n",
        "    return X_train, y_train, X_test, Y_test\n",
        "\n",
        "\n",
        "\n",
        "# Run experiment: Train and test on subject 5\n",
        "X_train, y_train, X_test, Y_test = prepare_data_for_subject(mod_data, subject_counter(8))\n",
        "X_train_tensor = torch.tensor(X_train, dtype=torch.float32)\n",
        "y_train_tensor = torch.tensor(y_train, dtype=torch.long)\n",
        "X_test_tensor = torch.tensor(X_test, dtype=torch.float32)\n",
        "y_test_tensor = torch.tensor(Y_test, dtype=torch.long)\n",
        "\n",
        "train_dataset = TensorDataset(X_train_tensor, y_train_tensor)\n",
        "train_loader = DataLoader(train_dataset, batch_size=32, shuffle=True)\n",
        "test_dataset = TensorDataset(X_test_tensor, y_test_tensor)\n",
        "test_loader = DataLoader(test_dataset, batch_size=32, shuffle=False)\n",
        "\n",
        "print(\"Testing self-consistency on subject 5:\")\n",
        "self_results = run_experiments(train_loader, test_loader)\n",
        "\n",
        "\n",
        "\n",
        "\n",
        "# Run experiment: Train on 1, 2, 3 and test on 5\n",
        "X_train, y_train, X_test, Y_test = prepare_combined_data(mod_data, [1, 2, 3], 8)\n",
        "X_train_tensor = torch.tensor(X_train, dtype=torch.float32)\n",
        "y_train_tensor = torch.tensor(y_train, dtype=torch.long)\n",
        "X_test_tensor = torch.tensor(X_test, dtype=torch.float32)\n",
        "y_test_tensor = torch.tensor(Y_test, dtype=torch.long)\n",
        "\n",
        "train_dataset = TensorDataset(X_train_tensor, y_train_tensor)\n",
        "train_loader = DataLoader(train_dataset, batch_size=32, shuffle=True)\n",
        "# test_dataset = TensorDataset(X_test_tensor, y_test_tensor)\n",
        "# test_loader = DataLoader(test_dataset, batch_size=32, shuffle=False)\n",
        "\n",
        "# Assuming run_experiments is already defined and set up for one-off training/testing\n",
        "print(\"Testing generalization from subjects 1, 2, 3 to subject 8:\")\n",
        "gen_results = run_experiments(train_loader, test_loader)\n",
        "\n",
        "\n",
        "\n",
        "# Compare results\n",
        "print(f\"Generalization results: {gen_results}\")\n",
        "print(f\"Self-consistency results: {self_results}\")\n"
      ]
    }
  ],
  "metadata": {
    "accelerator": "GPU",
    "colab": {
      "gpuType": "T4",
      "provenance": []
    },
    "kernelspec": {
      "display_name": "Python 3",
      "name": "python3"
    },
    "language_info": {
      "codemirror_mode": {
        "name": "ipython",
        "version": 3
      },
      "file_extension": ".py",
      "mimetype": "text/x-python",
      "name": "python",
      "nbconvert_exporter": "python",
      "pygments_lexer": "ipython3",
      "version": "3.8.18"
    }
  },
  "nbformat": 4,
  "nbformat_minor": 0
}